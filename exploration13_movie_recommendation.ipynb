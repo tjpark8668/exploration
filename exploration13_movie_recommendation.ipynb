{
 "cells": [
  {
   "cell_type": "code",
   "execution_count": 1,
   "id": "5027e457",
   "metadata": {},
   "outputs": [],
   "source": [
    "import numpy as np\n",
    "import scipy\n",
    "import implicit\n",
    "import pandas as pd\n",
    "import os"
   ]
  },
  {
   "cell_type": "markdown",
   "id": "5a67a98c",
   "metadata": {},
   "source": [
    "# 1) 데이터 준비와 전처리"
   ]
  },
  {
   "cell_type": "code",
   "execution_count": 2,
   "id": "3f7f4fc9",
   "metadata": {},
   "outputs": [
    {
     "data": {
      "text/html": [
       "<div>\n",
       "<style scoped>\n",
       "    .dataframe tbody tr th:only-of-type {\n",
       "        vertical-align: middle;\n",
       "    }\n",
       "\n",
       "    .dataframe tbody tr th {\n",
       "        vertical-align: top;\n",
       "    }\n",
       "\n",
       "    .dataframe thead th {\n",
       "        text-align: right;\n",
       "    }\n",
       "</style>\n",
       "<table border=\"1\" class=\"dataframe\">\n",
       "  <thead>\n",
       "    <tr style=\"text-align: right;\">\n",
       "      <th></th>\n",
       "      <th>user_id</th>\n",
       "      <th>movie_id</th>\n",
       "      <th>ratings</th>\n",
       "      <th>timestamp</th>\n",
       "    </tr>\n",
       "  </thead>\n",
       "  <tbody>\n",
       "    <tr>\n",
       "      <th>0</th>\n",
       "      <td>1</td>\n",
       "      <td>1193</td>\n",
       "      <td>5</td>\n",
       "      <td>978300760</td>\n",
       "    </tr>\n",
       "    <tr>\n",
       "      <th>1</th>\n",
       "      <td>1</td>\n",
       "      <td>661</td>\n",
       "      <td>3</td>\n",
       "      <td>978302109</td>\n",
       "    </tr>\n",
       "    <tr>\n",
       "      <th>2</th>\n",
       "      <td>1</td>\n",
       "      <td>914</td>\n",
       "      <td>3</td>\n",
       "      <td>978301968</td>\n",
       "    </tr>\n",
       "    <tr>\n",
       "      <th>3</th>\n",
       "      <td>1</td>\n",
       "      <td>3408</td>\n",
       "      <td>4</td>\n",
       "      <td>978300275</td>\n",
       "    </tr>\n",
       "    <tr>\n",
       "      <th>4</th>\n",
       "      <td>1</td>\n",
       "      <td>2355</td>\n",
       "      <td>5</td>\n",
       "      <td>978824291</td>\n",
       "    </tr>\n",
       "  </tbody>\n",
       "</table>\n",
       "</div>"
      ],
      "text/plain": [
       "   user_id  movie_id  ratings  timestamp\n",
       "0        1      1193        5  978300760\n",
       "1        1       661        3  978302109\n",
       "2        1       914        3  978301968\n",
       "3        1      3408        4  978300275\n",
       "4        1      2355        5  978824291"
      ]
     },
     "execution_count": 2,
     "metadata": {},
     "output_type": "execute_result"
    }
   ],
   "source": [
    "rating_file_path=os.getenv('HOME') + '/aiffel/recommendata_iu/data/ml-1m/ratings.dat'\n",
    "ratings_cols = ['user_id', 'movie_id', 'ratings', 'timestamp']\n",
    "ratings = pd.read_csv(rating_file_path, sep='::', names=ratings_cols, engine='python', encoding = \"ISO-8859-1\")\n",
    "orginal_data_size = len(ratings)\n",
    "ratings.head()"
   ]
  },
  {
   "cell_type": "code",
   "execution_count": 3,
   "id": "4afbaabf",
   "metadata": {},
   "outputs": [
    {
     "name": "stdout",
     "output_type": "stream",
     "text": [
      "orginal_data_size: 1000209, filtered_data_size: 836478\n",
      "Ratio of Remaining Data is 83.63%\n"
     ]
    }
   ],
   "source": [
    "# 3점 이상만 남깁니다.\n",
    "ratings = ratings[ratings['ratings']>=3]\n",
    "filtered_data_size = len(ratings)\n",
    "\n",
    "print(f'orginal_data_size: {orginal_data_size}, filtered_data_size: {filtered_data_size}')\n",
    "print(f'Ratio of Remaining Data is {filtered_data_size / orginal_data_size:.2%}')"
   ]
  },
  {
   "cell_type": "code",
   "execution_count": 4,
   "id": "4d9a39cc",
   "metadata": {},
   "outputs": [],
   "source": [
    "# ratings 컬럼의 이름을 counts로 바꿉니다.\n",
    "ratings.rename(columns={'ratings':'counts'}, inplace=True)"
   ]
  },
  {
   "cell_type": "code",
   "execution_count": 5,
   "id": "f067bb3b",
   "metadata": {
    "scrolled": true
   },
   "outputs": [
    {
     "data": {
      "text/html": [
       "<div>\n",
       "<style scoped>\n",
       "    .dataframe tbody tr th:only-of-type {\n",
       "        vertical-align: middle;\n",
       "    }\n",
       "\n",
       "    .dataframe tbody tr th {\n",
       "        vertical-align: top;\n",
       "    }\n",
       "\n",
       "    .dataframe thead th {\n",
       "        text-align: right;\n",
       "    }\n",
       "</style>\n",
       "<table border=\"1\" class=\"dataframe\">\n",
       "  <thead>\n",
       "    <tr style=\"text-align: right;\">\n",
       "      <th></th>\n",
       "      <th>movie_id</th>\n",
       "      <th>title</th>\n",
       "      <th>genre</th>\n",
       "    </tr>\n",
       "  </thead>\n",
       "  <tbody>\n",
       "    <tr>\n",
       "      <th>0</th>\n",
       "      <td>1</td>\n",
       "      <td>Toy Story (1995)</td>\n",
       "      <td>Animation|Children's|Comedy</td>\n",
       "    </tr>\n",
       "    <tr>\n",
       "      <th>1</th>\n",
       "      <td>2</td>\n",
       "      <td>Jumanji (1995)</td>\n",
       "      <td>Adventure|Children's|Fantasy</td>\n",
       "    </tr>\n",
       "    <tr>\n",
       "      <th>2</th>\n",
       "      <td>3</td>\n",
       "      <td>Grumpier Old Men (1995)</td>\n",
       "      <td>Comedy|Romance</td>\n",
       "    </tr>\n",
       "    <tr>\n",
       "      <th>3</th>\n",
       "      <td>4</td>\n",
       "      <td>Waiting to Exhale (1995)</td>\n",
       "      <td>Comedy|Drama</td>\n",
       "    </tr>\n",
       "    <tr>\n",
       "      <th>4</th>\n",
       "      <td>5</td>\n",
       "      <td>Father of the Bride Part II (1995)</td>\n",
       "      <td>Comedy</td>\n",
       "    </tr>\n",
       "  </tbody>\n",
       "</table>\n",
       "</div>"
      ],
      "text/plain": [
       "   movie_id                               title                         genre\n",
       "0         1                    Toy Story (1995)   Animation|Children's|Comedy\n",
       "1         2                      Jumanji (1995)  Adventure|Children's|Fantasy\n",
       "2         3             Grumpier Old Men (1995)                Comedy|Romance\n",
       "3         4            Waiting to Exhale (1995)                  Comedy|Drama\n",
       "4         5  Father of the Bride Part II (1995)                        Comedy"
      ]
     },
     "execution_count": 5,
     "metadata": {},
     "output_type": "execute_result"
    }
   ],
   "source": [
    "# 영화 제목을 보기 위해 메타 데이터를 읽어옵니다.\n",
    "movie_file_path=os.getenv('HOME') + '/aiffel/recommendata_iu/data/ml-1m/movies.dat'\n",
    "cols = ['movie_id', 'title', 'genre'] \n",
    "movies = pd.read_csv(movie_file_path, sep='::', names=cols, engine='python', encoding='ISO-8859-1')\n",
    "movies.head()"
   ]
  },
  {
   "cell_type": "markdown",
   "id": "d446ef5c",
   "metadata": {},
   "source": [
    "# 2) 분석해 봅시다."
   ]
  },
  {
   "cell_type": "code",
   "execution_count": 19,
   "id": "85a979db",
   "metadata": {},
   "outputs": [
    {
     "data": {
      "text/html": [
       "<div>\n",
       "<style scoped>\n",
       "    .dataframe tbody tr th:only-of-type {\n",
       "        vertical-align: middle;\n",
       "    }\n",
       "\n",
       "    .dataframe tbody tr th {\n",
       "        vertical-align: top;\n",
       "    }\n",
       "\n",
       "    .dataframe thead th {\n",
       "        text-align: right;\n",
       "    }\n",
       "</style>\n",
       "<table border=\"1\" class=\"dataframe\">\n",
       "  <thead>\n",
       "    <tr style=\"text-align: right;\">\n",
       "      <th></th>\n",
       "      <th>user_id</th>\n",
       "      <th>title</th>\n",
       "      <th>counts</th>\n",
       "    </tr>\n",
       "  </thead>\n",
       "  <tbody>\n",
       "    <tr>\n",
       "      <th>0</th>\n",
       "      <td>1</td>\n",
       "      <td>one flew over the cuckoo's nest (1975)</td>\n",
       "      <td>5</td>\n",
       "    </tr>\n",
       "    <tr>\n",
       "      <th>1</th>\n",
       "      <td>2</td>\n",
       "      <td>one flew over the cuckoo's nest (1975)</td>\n",
       "      <td>5</td>\n",
       "    </tr>\n",
       "    <tr>\n",
       "      <th>2</th>\n",
       "      <td>12</td>\n",
       "      <td>one flew over the cuckoo's nest (1975)</td>\n",
       "      <td>4</td>\n",
       "    </tr>\n",
       "    <tr>\n",
       "      <th>3</th>\n",
       "      <td>15</td>\n",
       "      <td>one flew over the cuckoo's nest (1975)</td>\n",
       "      <td>4</td>\n",
       "    </tr>\n",
       "    <tr>\n",
       "      <th>4</th>\n",
       "      <td>17</td>\n",
       "      <td>one flew over the cuckoo's nest (1975)</td>\n",
       "      <td>5</td>\n",
       "    </tr>\n",
       "    <tr>\n",
       "      <th>5</th>\n",
       "      <td>18</td>\n",
       "      <td>one flew over the cuckoo's nest (1975)</td>\n",
       "      <td>4</td>\n",
       "    </tr>\n",
       "    <tr>\n",
       "      <th>6</th>\n",
       "      <td>19</td>\n",
       "      <td>one flew over the cuckoo's nest (1975)</td>\n",
       "      <td>5</td>\n",
       "    </tr>\n",
       "    <tr>\n",
       "      <th>7</th>\n",
       "      <td>24</td>\n",
       "      <td>one flew over the cuckoo's nest (1975)</td>\n",
       "      <td>5</td>\n",
       "    </tr>\n",
       "    <tr>\n",
       "      <th>8</th>\n",
       "      <td>28</td>\n",
       "      <td>one flew over the cuckoo's nest (1975)</td>\n",
       "      <td>3</td>\n",
       "    </tr>\n",
       "    <tr>\n",
       "      <th>9</th>\n",
       "      <td>33</td>\n",
       "      <td>one flew over the cuckoo's nest (1975)</td>\n",
       "      <td>5</td>\n",
       "    </tr>\n",
       "  </tbody>\n",
       "</table>\n",
       "</div>"
      ],
      "text/plain": [
       "   user_id                                   title  counts\n",
       "0        1  one flew over the cuckoo's nest (1975)       5\n",
       "1        2  one flew over the cuckoo's nest (1975)       5\n",
       "2       12  one flew over the cuckoo's nest (1975)       4\n",
       "3       15  one flew over the cuckoo's nest (1975)       4\n",
       "4       17  one flew over the cuckoo's nest (1975)       5\n",
       "5       18  one flew over the cuckoo's nest (1975)       4\n",
       "6       19  one flew over the cuckoo's nest (1975)       5\n",
       "7       24  one flew over the cuckoo's nest (1975)       5\n",
       "8       28  one flew over the cuckoo's nest (1975)       3\n",
       "9       33  one flew over the cuckoo's nest (1975)       5"
      ]
     },
     "execution_count": 19,
     "metadata": {},
     "output_type": "execute_result"
    }
   ],
   "source": [
    "data = pd.merge(ratings, movies, on = 'movie_id')\n",
    "data['title'] = data['title'].str.lower() # 검색을 쉽게 하기 위해 아티스트 문자열을 소문자로 바꿔줍시다.\n",
    "data = data[['user_id', 'title', 'counts']]\n",
    "\n",
    "data.head(10)"
   ]
  },
  {
   "cell_type": "code",
   "execution_count": 21,
   "id": "2c112ef3",
   "metadata": {
    "scrolled": true
   },
   "outputs": [
    {
     "name": "stdout",
     "output_type": "stream",
     "text": [
      "ratings에 있는 유니크한 영화 개수: 3628\n",
      "ratings에 있는 유니크한 사용자 수: 6039\n",
      "가장 인기 있는 영화 30개(인기순):\n"
     ]
    },
    {
     "data": {
      "text/plain": [
       "title\n",
       "american beauty (1999)                                   3211\n",
       "star wars: episode iv - a new hope (1977)                2910\n",
       "star wars: episode v - the empire strikes back (1980)    2885\n",
       "star wars: episode vi - return of the jedi (1983)        2716\n",
       "saving private ryan (1998)                               2561\n",
       "terminator 2: judgment day (1991)                        2509\n",
       "silence of the lambs, the (1991)                         2498\n",
       "raiders of the lost ark (1981)                           2473\n",
       "back to the future (1985)                                2460\n",
       "matrix, the (1999)                                       2434\n",
       "jurassic park (1993)                                     2413\n",
       "sixth sense, the (1999)                                  2385\n",
       "fargo (1996)                                             2371\n",
       "braveheart (1995)                                        2314\n",
       "men in black (1997)                                      2297\n",
       "schindler's list (1993)                                  2257\n",
       "princess bride, the (1987)                               2252\n",
       "shakespeare in love (1998)                               2213\n",
       "l.a. confidential (1997)                                 2210\n",
       "shawshank redemption, the (1994)                         2194\n",
       "godfather, the (1972)                                    2167\n",
       "groundhog day (1993)                                     2121\n",
       "e.t. the extra-terrestrial (1982)                        2102\n",
       "being john malkovich (1999)                              2066\n",
       "ghostbusters (1984)                                      2051\n",
       "pulp fiction (1994)                                      2030\n",
       "forrest gump (1994)                                      2022\n",
       "terminator, the (1984)                                   2019\n",
       "toy story (1995)                                         2000\n",
       "fugitive, the (1993)                                     1941\n",
       "Name: user_id, dtype: int64"
      ]
     },
     "execution_count": 21,
     "metadata": {},
     "output_type": "execute_result"
    }
   ],
   "source": [
    "print('ratings에 있는 유니크한 영화 개수:', data['title'].nunique())\n",
    "print('ratings에 있는 유니크한 사용자 수:', data['user_id'].nunique())\n",
    "print('가장 인기 있는 영화 30개(인기순):')\n",
    "\n",
    "movie_count = data.groupby('title')['user_id'].count()\n",
    "movie_count.sort_values(ascending=False).head(30)"
   ]
  },
  {
   "cell_type": "markdown",
   "id": "98e1f214",
   "metadata": {},
   "source": [
    "# 3) 내가 선호하는 영화를 5가지 골라서 ratings에 추가해 줍시다."
   ]
  },
  {
   "cell_type": "code",
   "execution_count": 22,
   "id": "aaee52ae",
   "metadata": {},
   "outputs": [
    {
     "data": {
      "text/html": [
       "<div>\n",
       "<style scoped>\n",
       "    .dataframe tbody tr th:only-of-type {\n",
       "        vertical-align: middle;\n",
       "    }\n",
       "\n",
       "    .dataframe tbody tr th {\n",
       "        vertical-align: top;\n",
       "    }\n",
       "\n",
       "    .dataframe thead th {\n",
       "        text-align: right;\n",
       "    }\n",
       "</style>\n",
       "<table border=\"1\" class=\"dataframe\">\n",
       "  <thead>\n",
       "    <tr style=\"text-align: right;\">\n",
       "      <th></th>\n",
       "      <th>user_id</th>\n",
       "      <th>title</th>\n",
       "      <th>counts</th>\n",
       "    </tr>\n",
       "  </thead>\n",
       "  <tbody>\n",
       "    <tr>\n",
       "      <th>836473</th>\n",
       "      <td>5851</td>\n",
       "      <td>one little indian (1973)</td>\n",
       "      <td>5</td>\n",
       "    </tr>\n",
       "    <tr>\n",
       "      <th>836474</th>\n",
       "      <td>5854</td>\n",
       "      <td>slaughterhouse (1987)</td>\n",
       "      <td>4</td>\n",
       "    </tr>\n",
       "    <tr>\n",
       "      <th>836475</th>\n",
       "      <td>5854</td>\n",
       "      <td>promise, the (versprechen, das) (1994)</td>\n",
       "      <td>3</td>\n",
       "    </tr>\n",
       "    <tr>\n",
       "      <th>836476</th>\n",
       "      <td>5938</td>\n",
       "      <td>five wives, three secretaries and me (1998)</td>\n",
       "      <td>4</td>\n",
       "    </tr>\n",
       "    <tr>\n",
       "      <th>836477</th>\n",
       "      <td>5948</td>\n",
       "      <td>identification of a woman (identificazione di ...</td>\n",
       "      <td>5</td>\n",
       "    </tr>\n",
       "    <tr>\n",
       "      <th>0</th>\n",
       "      <td>taejune</td>\n",
       "      <td>terminator, the (1984)</td>\n",
       "      <td>4</td>\n",
       "    </tr>\n",
       "    <tr>\n",
       "      <th>1</th>\n",
       "      <td>taejune</td>\n",
       "      <td>forrest gump (1994)</td>\n",
       "      <td>4</td>\n",
       "    </tr>\n",
       "    <tr>\n",
       "      <th>2</th>\n",
       "      <td>taejune</td>\n",
       "      <td>pulp fiction (1994)</td>\n",
       "      <td>4</td>\n",
       "    </tr>\n",
       "    <tr>\n",
       "      <th>3</th>\n",
       "      <td>taejune</td>\n",
       "      <td>men in black (1997)</td>\n",
       "      <td>4</td>\n",
       "    </tr>\n",
       "    <tr>\n",
       "      <th>4</th>\n",
       "      <td>taejune</td>\n",
       "      <td>ghostbusters (1984)</td>\n",
       "      <td>4</td>\n",
       "    </tr>\n",
       "  </tbody>\n",
       "</table>\n",
       "</div>"
      ],
      "text/plain": [
       "        user_id                                              title  counts\n",
       "836473     5851                           one little indian (1973)       5\n",
       "836474     5854                              slaughterhouse (1987)       4\n",
       "836475     5854             promise, the (versprechen, das) (1994)       3\n",
       "836476     5938        five wives, three secretaries and me (1998)       4\n",
       "836477     5948  identification of a woman (identificazione di ...       5\n",
       "0       taejune                             terminator, the (1984)       4\n",
       "1       taejune                                forrest gump (1994)       4\n",
       "2       taejune                                pulp fiction (1994)       4\n",
       "3       taejune                                men in black (1997)       4\n",
       "4       taejune                                ghostbusters (1984)       4"
      ]
     },
     "execution_count": 22,
     "metadata": {},
     "output_type": "execute_result"
    }
   ],
   "source": [
    "# 본인이 좋아하시는 아티스트 데이터로 바꿔서 추가하셔도 됩니다! 단, 이름은 꼭 데이터셋에 있는 것과 동일하게 맞춰주세요. \n",
    "my_favorite = ['terminator, the (1984)' , 'forrest gump (1994)' ,'pulp fiction (1994)' ,'men in black (1997)' ,'ghostbusters (1984)']\n",
    "\n",
    "# 'zimin'이라는 user_id가 위 아티스트의 노래를 30회씩 들었다고 가정하겠습니다.\n",
    "my_playlist = pd.DataFrame({'user_id': ['taejune']*5, 'title': my_favorite, 'counts':[4]*5})\n",
    "\n",
    "if not data.isin({'user_id':['taejune']})['user_id'].any():  # user_id에 'zimin'이라는 데이터가 없다면\n",
    "    data = data.append(my_playlist)                           # 위에 임의로 만든 my_favorite 데이터를 추가해 줍니다. \n",
    "\n",
    "data.tail(10)       # 잘 추가되었는지 확인해 봅시다."
   ]
  },
  {
   "cell_type": "code",
   "execution_count": 24,
   "id": "fa391968",
   "metadata": {},
   "outputs": [],
   "source": [
    "# 고유한 유저, 아티스트를 찾아내는 코드\n",
    "user_unique = data['user_id'].unique()\n",
    "title_unique = data['title'].unique()\n",
    "\n",
    "# 유저, 아티스트 indexing 하는 코드 idx는 index의 약자입니다.\n",
    "user_to_idx = {v:k for k,v in enumerate(user_unique)}\n",
    "title_to_idx = {v:k for k,v in enumerate(title_unique)}"
   ]
  },
  {
   "cell_type": "code",
   "execution_count": 42,
   "id": "deafc84e",
   "metadata": {},
   "outputs": [
    {
     "name": "stdout",
     "output_type": "stream",
     "text": [
      "6039\n",
      "175\n"
     ]
    }
   ],
   "source": [
    "# 인덱싱이 잘 되었는지 확인해 봅니다. \n",
    "print(user_to_idx['taejune'])    # 358869명의 유저 중 마지막으로 추가된 유저이니 358868이 나와야 합니다. \n",
    "print(title_to_idx['men in black (1997)'])"
   ]
  },
  {
   "cell_type": "markdown",
   "id": "d051aa99",
   "metadata": {},
   "source": [
    "# 4) CSR matrix를 직접 만들어 봅시다."
   ]
  },
  {
   "cell_type": "code",
   "execution_count": 28,
   "id": "4f17eb6f",
   "metadata": {},
   "outputs": [
    {
     "name": "stdout",
     "output_type": "stream",
     "text": [
      "user_id column indexing OK!!\n",
      "title column indexing OK!!\n"
     ]
    },
    {
     "data": {
      "text/html": [
       "<div>\n",
       "<style scoped>\n",
       "    .dataframe tbody tr th:only-of-type {\n",
       "        vertical-align: middle;\n",
       "    }\n",
       "\n",
       "    .dataframe tbody tr th {\n",
       "        vertical-align: top;\n",
       "    }\n",
       "\n",
       "    .dataframe thead th {\n",
       "        text-align: right;\n",
       "    }\n",
       "</style>\n",
       "<table border=\"1\" class=\"dataframe\">\n",
       "  <thead>\n",
       "    <tr style=\"text-align: right;\">\n",
       "      <th></th>\n",
       "      <th>user_id</th>\n",
       "      <th>title</th>\n",
       "      <th>counts</th>\n",
       "    </tr>\n",
       "  </thead>\n",
       "  <tbody>\n",
       "    <tr>\n",
       "      <th>0</th>\n",
       "      <td>0</td>\n",
       "      <td>0</td>\n",
       "      <td>5</td>\n",
       "    </tr>\n",
       "    <tr>\n",
       "      <th>1</th>\n",
       "      <td>1</td>\n",
       "      <td>0</td>\n",
       "      <td>5</td>\n",
       "    </tr>\n",
       "    <tr>\n",
       "      <th>2</th>\n",
       "      <td>2</td>\n",
       "      <td>0</td>\n",
       "      <td>4</td>\n",
       "    </tr>\n",
       "    <tr>\n",
       "      <th>3</th>\n",
       "      <td>3</td>\n",
       "      <td>0</td>\n",
       "      <td>4</td>\n",
       "    </tr>\n",
       "    <tr>\n",
       "      <th>4</th>\n",
       "      <td>4</td>\n",
       "      <td>0</td>\n",
       "      <td>5</td>\n",
       "    </tr>\n",
       "    <tr>\n",
       "      <th>...</th>\n",
       "      <td>...</td>\n",
       "      <td>...</td>\n",
       "      <td>...</td>\n",
       "    </tr>\n",
       "    <tr>\n",
       "      <th>0</th>\n",
       "      <td>6039</td>\n",
       "      <td>200</td>\n",
       "      <td>4</td>\n",
       "    </tr>\n",
       "    <tr>\n",
       "      <th>1</th>\n",
       "      <td>6039</td>\n",
       "      <td>160</td>\n",
       "      <td>4</td>\n",
       "    </tr>\n",
       "    <tr>\n",
       "      <th>2</th>\n",
       "      <td>6039</td>\n",
       "      <td>222</td>\n",
       "      <td>4</td>\n",
       "    </tr>\n",
       "    <tr>\n",
       "      <th>3</th>\n",
       "      <td>6039</td>\n",
       "      <td>175</td>\n",
       "      <td>4</td>\n",
       "    </tr>\n",
       "    <tr>\n",
       "      <th>4</th>\n",
       "      <td>6039</td>\n",
       "      <td>243</td>\n",
       "      <td>4</td>\n",
       "    </tr>\n",
       "  </tbody>\n",
       "</table>\n",
       "<p>836483 rows × 3 columns</p>\n",
       "</div>"
      ],
      "text/plain": [
       "    user_id  title  counts\n",
       "0         0      0       5\n",
       "1         1      0       5\n",
       "2         2      0       4\n",
       "3         3      0       4\n",
       "4         4      0       5\n",
       "..      ...    ...     ...\n",
       "0      6039    200       4\n",
       "1      6039    160       4\n",
       "2      6039    222       4\n",
       "3      6039    175       4\n",
       "4      6039    243       4\n",
       "\n",
       "[836483 rows x 3 columns]"
      ]
     },
     "execution_count": 28,
     "metadata": {},
     "output_type": "execute_result"
    }
   ],
   "source": [
    "# indexing을 통해 데이터 컬럼 내 값을 바꾸는 코드\n",
    "# dictionary 자료형의 get 함수는 https://wikidocs.net/16 을 참고하세요.\n",
    "\n",
    "# user_to_idx.get을 통해 user_id 컬럼의 모든 값을 인덱싱한 Series를 구해 봅시다. \n",
    "# 혹시 정상적으로 인덱싱되지 않은 row가 있다면 인덱스가 NaN이 될 테니 dropna()로 제거합니다. \n",
    "temp_user_data = data['user_id'].map(user_to_idx.get).dropna()\n",
    "if len(temp_user_data) == len(data):   # 모든 row가 정상적으로 인덱싱되었다면\n",
    "    print('user_id column indexing OK!!')\n",
    "    data['user_id'] = temp_user_data   # data['user_id']을 인덱싱된 Series로 교체해 줍니다. \n",
    "else:\n",
    "    print('user_id column indexing Fail!!')\n",
    "\n",
    "# title_to_idx을 통해 title 컬럼도 동일한 방식으로 인덱싱해 줍니다. \n",
    "temp_title_data = data['title'].map(title_to_idx.get).dropna()\n",
    "if len(temp_title_data) == len(data):\n",
    "    print('title column indexing OK!!')\n",
    "    data['title'] = temp_title_data\n",
    "else:\n",
    "    print('title column indexing Fail!!')\n",
    "\n",
    "data"
   ]
  },
  {
   "cell_type": "code",
   "execution_count": 30,
   "id": "0af56eca",
   "metadata": {},
   "outputs": [
    {
     "data": {
      "text/plain": [
       "<6040x3628 sparse matrix of type '<class 'numpy.int64'>'\n",
       "\twith 836483 stored elements in Compressed Sparse Row format>"
      ]
     },
     "execution_count": 30,
     "metadata": {},
     "output_type": "execute_result"
    }
   ],
   "source": [
    "# 실습 위에 설명보고 이해해서 만들어보기\n",
    "from scipy.sparse import csr_matrix\n",
    "\n",
    "num_user = data['user_id'].nunique()\n",
    "num_title = data['title'].nunique()\n",
    "\n",
    "csr_data = csr_matrix((data.counts, (data.user_id, data.title)), shape= (num_user, num_title))\n",
    "csr_data"
   ]
  },
  {
   "cell_type": "markdown",
   "id": "bff34757",
   "metadata": {},
   "source": [
    "# 5) als_model = AlternatingLeastSquares 모델을 직접 구성하여 훈련시켜 봅시다."
   ]
  },
  {
   "cell_type": "code",
   "execution_count": 31,
   "id": "47e33ed4",
   "metadata": {},
   "outputs": [],
   "source": [
    "from implicit.als import AlternatingLeastSquares\n",
    "\n",
    "os.environ['OPENBLAS_NUM_THREADS']='1'\n",
    "os.environ['KMP_DUPLICATE_LIB_OK']='True'\n",
    "os.environ['MKL_NUM_THREADS']='1'"
   ]
  },
  {
   "cell_type": "code",
   "execution_count": 32,
   "id": "841b852e",
   "metadata": {},
   "outputs": [],
   "source": [
    "# Implicit AlternatingLeastSquares 모델의 선언\n",
    "als_model = AlternatingLeastSquares(factors=100, regularization=0.01, use_gpu=False, iterations=15, dtype=np.float32)"
   ]
  },
  {
   "cell_type": "code",
   "execution_count": 33,
   "id": "efb1f593",
   "metadata": {},
   "outputs": [
    {
     "data": {
      "text/plain": [
       "<3628x6040 sparse matrix of type '<class 'numpy.int64'>'\n",
       "\twith 836483 stored elements in Compressed Sparse Column format>"
      ]
     },
     "execution_count": 33,
     "metadata": {},
     "output_type": "execute_result"
    }
   ],
   "source": [
    "# als 모델은 input으로 (item X user 꼴의 matrix를 받기 때문에 Transpose해줍니다.)\n",
    "csr_data_transpose = csr_data.T\n",
    "csr_data_transpose"
   ]
  },
  {
   "cell_type": "code",
   "execution_count": 34,
   "id": "24b823a6",
   "metadata": {},
   "outputs": [
    {
     "data": {
      "application/vnd.jupyter.widget-view+json": {
       "model_id": "cb14029992b04e088d038324efe735c1",
       "version_major": 2,
       "version_minor": 0
      },
      "text/plain": [
       "  0%|          | 0/15 [00:00<?, ?it/s]"
      ]
     },
     "metadata": {},
     "output_type": "display_data"
    }
   ],
   "source": [
    "# 모델 훈련\n",
    "als_model.fit(csr_data_transpose)"
   ]
  },
  {
   "cell_type": "code",
   "execution_count": 44,
   "id": "5a4ceefa",
   "metadata": {
    "scrolled": false
   },
   "outputs": [],
   "source": [
    "taejune, men_in_black = user_to_idx['taejune'], title_to_idx['men in black (1997)']\n",
    "taejune_vector, men_in_black_vector = als_model.user_factors[taejune], als_model.item_factors[men_in_black]"
   ]
  },
  {
   "cell_type": "code",
   "execution_count": 46,
   "id": "d43b4f95",
   "metadata": {},
   "outputs": [
    {
     "data": {
      "text/plain": [
       "array([-5.90279222e-01, -2.41623476e-01,  2.04140589e-01, -2.12962806e-01,\n",
       "       -1.87580854e-01,  2.44142815e-01, -8.39553118e-01, -1.17611301e+00,\n",
       "        2.14782536e-01, -5.40048838e-01,  8.87865648e-02, -4.74711001e-01,\n",
       "        4.23215151e-01,  4.44868684e-01,  5.46762347e-01, -6.68445081e-02,\n",
       "        8.06423426e-01,  4.37483311e-01,  2.02229545e-01, -1.60743997e-01,\n",
       "       -4.71761525e-02,  7.41731286e-01, -3.42278570e-01, -3.30546784e-04,\n",
       "       -2.75987715e-01,  2.31685400e-01,  4.36832190e-01,  1.56327114e-01,\n",
       "       -7.69263446e-01, -7.30994791e-02,  2.33176425e-01, -1.25289649e-01,\n",
       "        2.98411667e-01,  1.09158322e-01,  4.43031818e-01,  2.76466042e-01,\n",
       "        1.54115170e-01, -1.63193271e-01, -5.41687384e-02, -9.54016224e-02,\n",
       "       -9.44080651e-02,  3.76369447e-01, -5.68130851e-01, -2.11442485e-02,\n",
       "       -3.11470479e-01,  1.55292347e-01, -8.01512957e-01,  3.63124639e-01,\n",
       "       -1.35560855e-01, -6.78580999e-01, -1.30805239e-01, -1.88624829e-01,\n",
       "       -5.29110670e-01, -8.36288556e-03,  4.57448065e-01,  4.14003849e-01,\n",
       "        7.98969924e-01,  4.22942907e-01, -2.75374472e-01,  9.02886212e-01,\n",
       "        5.34052968e-01,  3.92166018e-01, -1.84875250e-01,  8.51416826e-01,\n",
       "        2.03456730e-01,  5.37118495e-01,  6.41661510e-02, -3.34365278e-01,\n",
       "       -1.16771355e-01, -5.93886137e-01, -6.20101869e-01,  2.69310892e-01,\n",
       "        2.27416247e-01, -2.63785303e-01, -2.22949520e-01,  2.31545910e-01,\n",
       "        2.99241006e-01,  6.22060120e-01, -8.14743116e-02, -3.57454568e-01,\n",
       "        6.03514314e-01,  2.68414378e-01,  2.67500132e-01, -6.98623657e-01,\n",
       "       -1.04737908e-01,  3.04081142e-01, -8.38401616e-01, -3.08231741e-01,\n",
       "       -7.52204895e-01, -1.68691963e-01,  4.86688405e-01,  2.49573976e-01,\n",
       "        7.34694004e-01, -3.37568641e-01,  5.32989085e-01, -1.24989711e-01,\n",
       "       -2.57990450e-01,  2.72227824e-01, -1.75541699e-01,  3.00011992e-01],\n",
       "      dtype=float32)"
      ]
     },
     "execution_count": 46,
     "metadata": {},
     "output_type": "execute_result"
    }
   ],
   "source": [
    "taejune_vector"
   ]
  },
  {
   "cell_type": "code",
   "execution_count": 47,
   "id": "9c52a60d",
   "metadata": {},
   "outputs": [
    {
     "data": {
      "text/plain": [
       "array([-0.00842962,  0.00749896,  0.0127876 ,  0.00863832, -0.01035982,\n",
       "        0.00316326, -0.02141629, -0.03852015,  0.0158637 ,  0.03507251,\n",
       "        0.01426642, -0.02438173, -0.01914337, -0.01238089, -0.00035474,\n",
       "        0.01536127,  0.01954706,  0.01550917,  0.00046999,  0.00211523,\n",
       "       -0.00267011,  0.03273964, -0.02251273,  0.02123083, -0.02188584,\n",
       "        0.0154984 ,  0.02983838,  0.01763257,  0.00418592,  0.01119256,\n",
       "        0.01407741, -0.00525589, -0.01346784,  0.00366196, -0.00460149,\n",
       "       -0.00234894,  0.02322184,  0.01485264, -0.01032876,  0.00804107,\n",
       "        0.01911635, -0.02414637,  0.0079264 , -0.0059435 ,  0.01444525,\n",
       "        0.01682318, -0.00542586,  0.00896003,  0.02508112, -0.00351585,\n",
       "       -0.03119492,  0.0142193 , -0.02463176,  0.03462857,  0.03365576,\n",
       "        0.01727883,  0.01280033,  0.03820498, -0.0084773 ,  0.01281677,\n",
       "       -0.00168739,  0.01845865, -0.01288867,  0.01865461,  0.03422838,\n",
       "        0.04821969,  0.03090717,  0.00042779, -0.01654241, -0.00671346,\n",
       "       -0.02494015,  0.00988629,  0.02253067,  0.00696102, -0.02052136,\n",
       "        0.00890631,  0.02125883,  0.01658166,  0.01125009,  0.01415797,\n",
       "        0.01829805,  0.00088275,  0.02443776, -0.00920949,  0.02835837,\n",
       "       -0.01083058, -0.02889195,  0.01073714, -0.01004726,  0.00124556,\n",
       "        0.03830509,  0.01145964,  0.01966986,  0.00719682,  0.00039531,\n",
       "        0.0030249 ,  0.00633777, -0.00408719, -0.00309502,  0.04226589],\n",
       "      dtype=float32)"
      ]
     },
     "execution_count": 47,
     "metadata": {},
     "output_type": "execute_result"
    }
   ],
   "source": [
    "men_in_black_vector"
   ]
  },
  {
   "cell_type": "code",
   "execution_count": 49,
   "id": "0bf7c89a",
   "metadata": {},
   "outputs": [
    {
     "data": {
      "text/plain": [
       "0.38726166"
      ]
     },
     "execution_count": 49,
     "metadata": {},
     "output_type": "execute_result"
    }
   ],
   "source": [
    "np.dot(taejune_vector, men_in_black_vector)"
   ]
  },
  {
   "cell_type": "markdown",
   "id": "b5abcbd3",
   "metadata": {},
   "source": [
    "# 6) 내가 선호하는 5가지 영화 중 하나와 그 외의 영화 하나를 골라 훈련된 모델이 예측한 나의 선호도를 파악해 보세요."
   ]
  },
  {
   "cell_type": "code",
   "execution_count": 51,
   "id": "9b5ca1a5",
   "metadata": {},
   "outputs": [
    {
     "data": {
      "text/plain": [
       "0.46172488"
      ]
     },
     "execution_count": 51,
     "metadata": {},
     "output_type": "execute_result"
    }
   ],
   "source": [
    "gump = title_to_idx['forrest gump (1994)'] # 선호하는 영화\n",
    "ryan = title_to_idx['saving private ryan (1998)'] # 그 외의 영화\n",
    "gump_vector = als_model.item_factors[gump]\n",
    "np.dot(taejune_vector, gump_vector)"
   ]
  },
  {
   "cell_type": "code",
   "execution_count": 52,
   "id": "143a2e87",
   "metadata": {},
   "outputs": [
    {
     "data": {
      "text/plain": [
       "0.1430613"
      ]
     },
     "execution_count": 52,
     "metadata": {},
     "output_type": "execute_result"
    }
   ],
   "source": [
    "ryan_vector = als_model.item_factors[ryan]\n",
    "np.dot(taejune_vector, ryan_vector)"
   ]
  },
  {
   "cell_type": "markdown",
   "id": "ff205f48",
   "metadata": {},
   "source": [
    "# 7) 내가 좋아하는 영화와 비슷한 영화를 추천받아 봅시다."
   ]
  },
  {
   "cell_type": "code",
   "execution_count": 54,
   "id": "2404cc5c",
   "metadata": {},
   "outputs": [
    {
     "data": {
      "text/plain": [
       "[(160, 1.0),\n",
       " (110, 0.60975283),\n",
       " (336, 0.4723566),\n",
       " (154, 0.4684204),\n",
       " (666, 0.4547838),\n",
       " (508, 0.4155792),\n",
       " (204, 0.40943053),\n",
       " (613, 0.40524912),\n",
       " (626, 0.40390596),\n",
       " (3614, 0.40164578),\n",
       " (105, 0.38630074),\n",
       " (340, 0.38499424),\n",
       " (1151, 0.38162053),\n",
       " (40, 0.3786391),\n",
       " (466, 0.37646574)]"
      ]
     },
     "execution_count": 54,
     "metadata": {},
     "output_type": "execute_result"
    }
   ],
   "source": [
    "favorite_movie = 'forrest gump (1994)'\n",
    "movie_id = title_to_idx[favorite_movie]\n",
    "similar_movie = als_model.similar_items(movie_id, N=15)\n",
    "similar_movie"
   ]
  },
  {
   "cell_type": "code",
   "execution_count": 56,
   "id": "5cd8dc35",
   "metadata": {},
   "outputs": [
    {
     "data": {
      "text/plain": [
       "['forrest gump (1994)',\n",
       " 'groundhog day (1993)',\n",
       " 'pretty woman (1990)',\n",
       " 'as good as it gets (1997)',\n",
       " 'sleepless in seattle (1993)',\n",
       " 'ghost (1990)',\n",
       " 'clueless (1995)',\n",
       " 'four weddings and a funeral (1994)',\n",
       " \"you've got mail (1998)\",\n",
       " 'outside ozona (1998)',\n",
       " 'last of the mohicans, the (1992)',\n",
       " \"my best friend's wedding (1997)\",\n",
       " 'notting hill (1999)',\n",
       " 'toy story (1995)',\n",
       " 'wedding singer, the (1998)']"
      ]
     },
     "execution_count": 56,
     "metadata": {},
     "output_type": "execute_result"
    }
   ],
   "source": [
    "# title_to_idx 를 뒤집어, index로부터 title 이름을 얻는 dict를 생성합니다. \n",
    "idx_to_title = {v:k for k,v in title_to_idx.items()}\n",
    "[idx_to_title[i[0]] for i in similar_movie]"
   ]
  },
  {
   "cell_type": "code",
   "execution_count": 57,
   "id": "34df0964",
   "metadata": {},
   "outputs": [],
   "source": [
    "def get_similar_movie(movie_name: str):\n",
    "    movie_id = title_to_idx[movie_name]\n",
    "    similar_movie = als_model.similar_items(movie_id)\n",
    "    similar_movie = [idx_to_title[i[0]] for i in similar_movie]\n",
    "    return similar_movie"
   ]
  },
  {
   "cell_type": "code",
   "execution_count": 59,
   "id": "41ff82e9",
   "metadata": {},
   "outputs": [
    {
     "data": {
      "text/plain": [
       "['pulp fiction (1994)',\n",
       " 'goodfellas (1990)',\n",
       " 'fargo (1996)',\n",
       " 'shawshank redemption, the (1994)',\n",
       " 'usual suspects, the (1995)',\n",
       " 'reservoir dogs (1992)',\n",
       " 'silence of the lambs, the (1991)',\n",
       " 'good will hunting (1997)',\n",
       " \"schindler's list (1993)\",\n",
       " 'l.a. confidential (1997)']"
      ]
     },
     "execution_count": 59,
     "metadata": {},
     "output_type": "execute_result"
    }
   ],
   "source": [
    "get_similar_movie('pulp fiction (1994)')"
   ]
  },
  {
   "cell_type": "markdown",
   "id": "755a19d0",
   "metadata": {},
   "source": [
    "# 8) 내가 가장 좋아할 만한 영화들을 추천받아 봅시다."
   ]
  },
  {
   "cell_type": "code",
   "execution_count": 60,
   "id": "840a449e",
   "metadata": {},
   "outputs": [
    {
     "data": {
      "text/plain": [
       "[(92, 0.40228856),\n",
       " (64, 0.3721132),\n",
       " (22, 0.34410214),\n",
       " (124, 0.3373537),\n",
       " (107, 0.33684248),\n",
       " (38, 0.3248741),\n",
       " (121, 0.31338334),\n",
       " (117, 0.30160677),\n",
       " (110, 0.269529),\n",
       " (51, 0.2678468),\n",
       " (233, 0.26138818),\n",
       " (44, 0.25854763),\n",
       " (62, 0.24250963),\n",
       " (224, 0.23898047),\n",
       " (99, 0.23773935),\n",
       " (120, 0.20859253),\n",
       " (157, 0.20102072),\n",
       " (201, 0.19559702),\n",
       " (15, 0.19519731),\n",
       " (637, 0.19363217)]"
      ]
     },
     "execution_count": 60,
     "metadata": {},
     "output_type": "execute_result"
    }
   ],
   "source": [
    "user = user_to_idx['taejune']\n",
    "# recommend에서는 user*item CSR Matrix를 받습니다.\n",
    "movie_recommended = als_model.recommend(user, csr_data, N=20, filter_already_liked_items=True)\n",
    "movie_recommended"
   ]
  },
  {
   "cell_type": "code",
   "execution_count": 61,
   "id": "2ae215cd",
   "metadata": {},
   "outputs": [
    {
     "data": {
      "text/plain": [
       "['terminator 2: judgment day (1991)',\n",
       " 'star wars: episode vi - return of the jedi (1983)',\n",
       " 'back to the future (1985)',\n",
       " 'matrix, the (1999)',\n",
       " 'jurassic park (1993)',\n",
       " 'sixth sense, the (1999)',\n",
       " 'silence of the lambs, the (1991)',\n",
       " 'star wars: episode v - the empire strikes back (1980)',\n",
       " 'groundhog day (1993)',\n",
       " 'fargo (1996)',\n",
       " 'usual suspects, the (1995)',\n",
       " 'star wars: episode iv - a new hope (1977)',\n",
       " 'total recall (1990)',\n",
       " 'l.a. confidential (1997)',\n",
       " 'american beauty (1999)',\n",
       " 'raiders of the lost ark (1981)',\n",
       " 'shawshank redemption, the (1994)',\n",
       " 'who framed roger rabbit? (1988)',\n",
       " 'airplane! (1980)',\n",
       " 'abyss, the (1989)']"
      ]
     },
     "execution_count": 61,
     "metadata": {},
     "output_type": "execute_result"
    }
   ],
   "source": [
    "[idx_to_title[i[0]] for i in movie_recommended]"
   ]
  },
  {
   "cell_type": "code",
   "execution_count": 64,
   "id": "02bb8a44",
   "metadata": {},
   "outputs": [],
   "source": [
    "future = title_to_idx['back to the future (1985)']\n",
    "explain = als_model.explain(user, csr_data, itemid=future)"
   ]
  },
  {
   "cell_type": "code",
   "execution_count": 65,
   "id": "c1882b38",
   "metadata": {},
   "outputs": [
    {
     "data": {
      "text/plain": [
       "[('ghostbusters (1984)', 0.15854607216511532),\n",
       " ('forrest gump (1994)', 0.09383121833974134),\n",
       " ('terminator, the (1984)', 0.06445744784189897),\n",
       " ('men in black (1997)', 0.05108565088302294),\n",
       " ('pulp fiction (1994)', -0.029015225733834676)]"
      ]
     },
     "execution_count": 65,
     "metadata": {},
     "output_type": "execute_result"
    }
   ],
   "source": [
    "[(idx_to_title[i[0]], i[1]) for i in explain[1]]"
   ]
  }
 ],
 "metadata": {
  "kernelspec": {
   "display_name": "Python 3 (ipykernel)",
   "language": "python",
   "name": "python3"
  },
  "language_info": {
   "codemirror_mode": {
    "name": "ipython",
    "version": 3
   },
   "file_extension": ".py",
   "mimetype": "text/x-python",
   "name": "python",
   "nbconvert_exporter": "python",
   "pygments_lexer": "ipython3",
   "version": "3.9.7"
  }
 },
 "nbformat": 4,
 "nbformat_minor": 5
}
