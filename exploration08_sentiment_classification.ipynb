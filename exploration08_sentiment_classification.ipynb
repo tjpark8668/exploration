{
 "cells": [
  {
   "cell_type": "markdown",
   "id": "11c5bcff",
   "metadata": {},
   "source": [
    "# 0) 라이브러리 버전 확인"
   ]
  },
  {
   "cell_type": "code",
   "execution_count": 1,
   "id": "768e0474",
   "metadata": {},
   "outputs": [
    {
     "name": "stdout",
     "output_type": "stream",
     "text": [
      "1.3.3\n",
      "0.5.2\n",
      "4.1.2\n"
     ]
    }
   ],
   "source": [
    "import pandas as pd\n",
    "import konlpy\n",
    "import gensim\n",
    "\n",
    "print(pd.__version__)\n",
    "print(konlpy.__version__)\n",
    "print(gensim.__version__)"
   ]
  },
  {
   "cell_type": "markdown",
   "id": "5eb5674e",
   "metadata": {},
   "source": [
    "# 1) 데이터 준비와 확인"
   ]
  },
  {
   "cell_type": "code",
   "execution_count": 2,
   "id": "96e734f5",
   "metadata": {},
   "outputs": [
    {
     "data": {
      "text/html": [
       "<div>\n",
       "<style scoped>\n",
       "    .dataframe tbody tr th:only-of-type {\n",
       "        vertical-align: middle;\n",
       "    }\n",
       "\n",
       "    .dataframe tbody tr th {\n",
       "        vertical-align: top;\n",
       "    }\n",
       "\n",
       "    .dataframe thead th {\n",
       "        text-align: right;\n",
       "    }\n",
       "</style>\n",
       "<table border=\"1\" class=\"dataframe\">\n",
       "  <thead>\n",
       "    <tr style=\"text-align: right;\">\n",
       "      <th></th>\n",
       "      <th>id</th>\n",
       "      <th>document</th>\n",
       "      <th>label</th>\n",
       "    </tr>\n",
       "  </thead>\n",
       "  <tbody>\n",
       "    <tr>\n",
       "      <th>0</th>\n",
       "      <td>9976970</td>\n",
       "      <td>아 더빙.. 진짜 짜증나네요 목소리</td>\n",
       "      <td>0</td>\n",
       "    </tr>\n",
       "    <tr>\n",
       "      <th>1</th>\n",
       "      <td>3819312</td>\n",
       "      <td>흠...포스터보고 초딩영화줄....오버연기조차 가볍지 않구나</td>\n",
       "      <td>1</td>\n",
       "    </tr>\n",
       "    <tr>\n",
       "      <th>2</th>\n",
       "      <td>10265843</td>\n",
       "      <td>너무재밓었다그래서보는것을추천한다</td>\n",
       "      <td>0</td>\n",
       "    </tr>\n",
       "    <tr>\n",
       "      <th>3</th>\n",
       "      <td>9045019</td>\n",
       "      <td>교도소 이야기구먼 ..솔직히 재미는 없다..평점 조정</td>\n",
       "      <td>0</td>\n",
       "    </tr>\n",
       "    <tr>\n",
       "      <th>4</th>\n",
       "      <td>6483659</td>\n",
       "      <td>사이몬페그의 익살스런 연기가 돋보였던 영화!스파이더맨에서 늙어보이기만 했던 커스틴 ...</td>\n",
       "      <td>1</td>\n",
       "    </tr>\n",
       "  </tbody>\n",
       "</table>\n",
       "</div>"
      ],
      "text/plain": [
       "         id                                           document  label\n",
       "0   9976970                                아 더빙.. 진짜 짜증나네요 목소리      0\n",
       "1   3819312                  흠...포스터보고 초딩영화줄....오버연기조차 가볍지 않구나      1\n",
       "2  10265843                                  너무재밓었다그래서보는것을추천한다      0\n",
       "3   9045019                      교도소 이야기구먼 ..솔직히 재미는 없다..평점 조정      0\n",
       "4   6483659  사이몬페그의 익살스런 연기가 돋보였던 영화!스파이더맨에서 늙어보이기만 했던 커스틴 ...      1"
      ]
     },
     "execution_count": 2,
     "metadata": {},
     "output_type": "execute_result"
    }
   ],
   "source": [
    "train_data = pd.read_table('~/aiffel/sentiment_classification/data/ratings_train.txt')\n",
    "test_data = pd.read_table('~/aiffel/sentiment_classification/data/ratings_test.txt')\n",
    "\n",
    "train_data.head()"
   ]
  },
  {
   "cell_type": "markdown",
   "id": "030900b3",
   "metadata": {},
   "source": [
    "# 2) 데이터로더 구성"
   ]
  },
  {
   "cell_type": "code",
   "execution_count": 3,
   "id": "3ca31cd8",
   "metadata": {},
   "outputs": [],
   "source": [
    "from konlpy.tag import Mecab\n",
    "import numpy as np\n",
    "from collections import Counter\n",
    "\n",
    "tokenizer = Mecab()\n",
    "stopwords = ['의','가','이','은','들','는','좀','잘','걍','과','도','를','으로','자','에','와','한','하다']\n",
    "\n",
    "def load_data(train_data, test_data, num_words=10000):\n",
    "    train_data.drop_duplicates(subset=['document'], inplace=True)\n",
    "    train_data = train_data.dropna(how = 'any') \n",
    "    test_data.drop_duplicates(subset=['document'], inplace=True)\n",
    "    test_data = test_data.dropna(how = 'any') \n",
    "    \n",
    "    X_train = []\n",
    "    for sentence in train_data['document']:\n",
    "        temp_X = tokenizer.morphs(sentence) # 토큰화\n",
    "        temp_X = [word for word in temp_X if not word in stopwords] # 불용어 제거\n",
    "        X_train.append(temp_X)\n",
    "\n",
    "    X_test = []\n",
    "    for sentence in test_data['document']:\n",
    "        temp_X = tokenizer.morphs(sentence) # 토큰화\n",
    "        temp_X = [word for word in temp_X if not word in stopwords] # 불용어 제거\n",
    "        X_test.append(temp_X)\n",
    "    \n",
    "    words = np.concatenate(X_train).tolist()\n",
    "    counter = Counter(words)\n",
    "    counter = counter.most_common(10000-4)\n",
    "    vocab = ['', '', '', ''] + [key for key, _ in counter]\n",
    "    word_to_index = {word:index for index, word in enumerate(vocab)}\n",
    "        \n",
    "    def wordlist_to_indexlist(wordlist):\n",
    "        return [word_to_index[word] if word in word_to_index else word_to_index[''] for word in wordlist]\n",
    "        \n",
    "    X_train = list(map(wordlist_to_indexlist, X_train))\n",
    "    X_test = list(map(wordlist_to_indexlist, X_test))\n",
    "        \n",
    "    return X_train, np.array(list(train_data['label'])), X_test, np.array(list(test_data['label'])), word_to_index\n",
    "    \n",
    "X_train, y_train, X_test, y_test, word_to_index = load_data(train_data, test_data)"
   ]
  },
  {
   "cell_type": "code",
   "execution_count": 4,
   "id": "77f45b0a",
   "metadata": {},
   "outputs": [],
   "source": [
    "index_to_word = {index:word for word, index in word_to_index.items()}\n",
    "index_to_word[0]='<PAD>'  # 패딩용 단어\n",
    "index_to_word[1]='<BOS>'  # 문장의 시작지점\n",
    "index_to_word[2]='<UNK>'  # 사전에 없는(Unknown) 단어"
   ]
  },
  {
   "cell_type": "code",
   "execution_count": 5,
   "id": "54b8869b",
   "metadata": {},
   "outputs": [],
   "source": [
    "# 문장 1개를 활용할 딕셔너리와 함께 주면, 단어 인덱스 리스트 벡터로 변환해 주는 함수입니다. \n",
    "# 단, 모든 문장은 <BOS>로 시작하는 것으로 합니다. \n",
    "def get_encoded_sentence(sentence, word_to_index):\n",
    "    return [word_to_index['<BOS>']]+[word_to_index[word] if word in word_to_index else word_to_index['<UNK>'] for word in sentence.split()]\n",
    "\n",
    "# 여러 개의 문장 리스트를 한꺼번에 단어 인덱스 리스트 벡터로 encode해 주는 함수입니다. \n",
    "def get_encoded_sentences(sentences, word_to_index):\n",
    "    return [get_encoded_sentence(sentence, word_to_index) for sentence in sentences]\n",
    "\n",
    "# 숫자 벡터로 encode된 문장을 원래대로 decode하는 함수입니다. \n",
    "def get_decoded_sentence(encoded_sentence, index_to_word):\n",
    "    return ' '.join(index_to_word[index] if index in index_to_word else '<UNK>' for index in encoded_sentence[1:])  #[1:]를 통해 <BOS>를 제외\n",
    "\n",
    "# 여러 개의 숫자 벡터로 encode된 문장을 한꺼번에 원래대로 decode하는 함수입니다. \n",
    "def get_decoded_sentences(encoded_sentences, index_to_word):\n",
    "    return [get_decoded_sentence(encoded_sentence, index_to_word) for encoded_sentence in encoded_sentences]"
   ]
  },
  {
   "cell_type": "code",
   "execution_count": 6,
   "id": "9c451613",
   "metadata": {},
   "outputs": [],
   "source": [
    "word_to_index['<PAD>'] = 0\n",
    "word_to_index['<BOS>'] = 1\n",
    "word_to_index['<UNK>'] = 2"
   ]
  },
  {
   "cell_type": "markdown",
   "id": "9dda9186",
   "metadata": {},
   "source": [
    "# 3) 모델 구성을 위한 데이터 분석 및 가공"
   ]
  },
  {
   "cell_type": "code",
   "execution_count": 7,
   "id": "c13d5e63",
   "metadata": {},
   "outputs": [
    {
     "name": "stdout",
     "output_type": "stream",
     "text": [
      "더 빙 . . 진짜 짜증 나 네요 목소리\n",
      "라벨:  0\n"
     ]
    }
   ],
   "source": [
    "print(get_decoded_sentence(X_train[0], index_to_word))\n",
    "print('라벨: ', y_train[0])  # 1번째 리뷰데이터의 라벨"
   ]
  },
  {
   "cell_type": "code",
   "execution_count": 8,
   "id": "b92511aa",
   "metadata": {},
   "outputs": [
    {
     "name": "stdout",
     "output_type": "stream",
     "text": [
      "문장길이 평균 :  15.96940191154864\n",
      "문장길이 최대 :  116\n",
      "문장길이 표준편차 :  12.843571191092\n",
      "pad_sequences maxlen :  41\n",
      "전체 문장의 0.9342988343341575%가 maxlen 설정값 이내에 포함됩니다. \n"
     ]
    }
   ],
   "source": [
    "total_data_text = list(X_train) + list(X_test)\n",
    "# 텍스트데이터 문장길이의 리스트를 생성한 후\n",
    "num_tokens = [len(tokens) for tokens in total_data_text]\n",
    "num_tokens = np.array(num_tokens)\n",
    "# 문장길이의 평균값, 최대값, 표준편차를 계산해 본다. \n",
    "print('문장길이 평균 : ', np.mean(num_tokens))\n",
    "print('문장길이 최대 : ', np.max(num_tokens))\n",
    "print('문장길이 표준편차 : ', np.std(num_tokens))\n",
    "\n",
    "# 예를들어, 최대 길이를 (평균 + 2*표준편차)로 한다면,  \n",
    "max_tokens = np.mean(num_tokens) + 2 * np.std(num_tokens)\n",
    "maxlen = int(max_tokens)\n",
    "print('pad_sequences maxlen : ', maxlen)\n",
    "print('전체 문장의 {}%가 maxlen 설정값 이내에 포함됩니다. '.format(np.sum(num_tokens < max_tokens) / len(num_tokens)))"
   ]
  },
  {
   "cell_type": "code",
   "execution_count": 54,
   "id": "91357daa",
   "metadata": {},
   "outputs": [
    {
     "name": "stdout",
     "output_type": "stream",
     "text": [
      "(146182, 41)\n"
     ]
    }
   ],
   "source": [
    "import tensorflow as tf\n",
    "from tensorflow import keras\n",
    "\n",
    "X_train = tf.keras.preprocessing.sequence.pad_sequences(X_train,\n",
    "                                                        value=word_to_index[\"<PAD>\"],\n",
    "                                                        padding='post', # 혹은 'pre'\n",
    "                                                        maxlen=maxlen)\n",
    "\n",
    "X_test = tf.keras.preprocessing.sequence.pad_sequences(X_test,\n",
    "                                                       value=word_to_index[\"<PAD>\"],\n",
    "                                                       padding='post', # 혹은 'pre'\n",
    "                                                       maxlen=maxlen)\n",
    "\n",
    "print(X_train.shape)"
   ]
  },
  {
   "cell_type": "code",
   "execution_count": 10,
   "id": "c7bcf8b5",
   "metadata": {},
   "outputs": [
    {
     "name": "stdout",
     "output_type": "stream",
     "text": [
      "더 빙 . . 진짜 짜증 나 네요 목소리 <PAD> <PAD> <PAD> <PAD> <PAD> <PAD> <PAD> <PAD> <PAD> <PAD> <PAD> <PAD> <PAD> <PAD> <PAD> <PAD> <PAD> <PAD> <PAD> <PAD> <PAD> <PAD> <PAD> <PAD> <PAD> <PAD> <PAD> <PAD> <PAD> <PAD> <PAD>\n",
      "라벨:  0\n"
     ]
    }
   ],
   "source": [
    "print(get_decoded_sentence(X_train[0], index_to_word))\n",
    "print('라벨: ', y_train[0])  # 1번째 리뷰데이터의 라벨"
   ]
  },
  {
   "cell_type": "markdown",
   "id": "11bb9c02",
   "metadata": {},
   "source": [
    "# 4) 모델 구성 및 validation set 구성"
   ]
  },
  {
   "cell_type": "markdown",
   "id": "6e7a627d",
   "metadata": {},
   "source": [
    "## validation set 구성"
   ]
  },
  {
   "cell_type": "code",
   "execution_count": 11,
   "id": "c4b1d405",
   "metadata": {},
   "outputs": [
    {
     "name": "stdout",
     "output_type": "stream",
     "text": [
      "(96182, 41)\n",
      "(96182,)\n"
     ]
    }
   ],
   "source": [
    "# validation set 50000건 분리\n",
    "X_val = X_train[:50000]   \n",
    "y_val = y_train[:50000]\n",
    "\n",
    "# validation set을 제외한 나머지 96182건\n",
    "partial_X_train = X_train[50000:]  \n",
    "partial_y_train = y_train[50000:]\n",
    "\n",
    "print(partial_X_train.shape)\n",
    "print(partial_y_train.shape)"
   ]
  },
  {
   "cell_type": "markdown",
   "id": "b7208aae",
   "metadata": {},
   "source": [
    "## RNN"
   ]
  },
  {
   "cell_type": "code",
   "execution_count": 12,
   "id": "5c7b42a1",
   "metadata": {},
   "outputs": [
    {
     "name": "stdout",
     "output_type": "stream",
     "text": [
      "Model: \"sequential\"\n",
      "_________________________________________________________________\n",
      "Layer (type)                 Output Shape              Param #   \n",
      "=================================================================\n",
      "embedding (Embedding)        (None, None, 16)          160000    \n",
      "_________________________________________________________________\n",
      "lstm (LSTM)                  (None, 8)                 800       \n",
      "_________________________________________________________________\n",
      "dense (Dense)                (None, 8)                 72        \n",
      "_________________________________________________________________\n",
      "dense_1 (Dense)              (None, 1)                 9         \n",
      "=================================================================\n",
      "Total params: 160,881\n",
      "Trainable params: 160,881\n",
      "Non-trainable params: 0\n",
      "_________________________________________________________________\n"
     ]
    }
   ],
   "source": [
    "vocab_size = 10000    # 어휘 사전의 크기입니다(10,000개의 단어)\n",
    "word_vector_dim = 16  # 워드 벡터의 차원 수 (변경 가능한 하이퍼파라미터)\n",
    "\n",
    "model = tf.keras.Sequential()\n",
    "model.add(tf.keras.layers.Embedding(vocab_size, word_vector_dim, input_shape=(None,)))\n",
    "model.add(tf.keras.layers.LSTM(8))   # 가장 널리 쓰이는 RNN인 LSTM 레이어를 사용하였습니다. 이때 LSTM state 벡터의 차원수는 8로 하였습니다. (변경 가능)\n",
    "model.add(tf.keras.layers.Dense(8, activation='relu'))\n",
    "model.add(tf.keras.layers.Dense(1, activation='sigmoid'))  # 최종 출력은 긍정/부정을 나타내는 1dim 입니다.\n",
    "\n",
    "model.summary()"
   ]
  },
  {
   "cell_type": "code",
   "execution_count": 13,
   "id": "4ca5ab4b",
   "metadata": {},
   "outputs": [
    {
     "name": "stdout",
     "output_type": "stream",
     "text": [
      "Epoch 1/20\n",
      "188/188 [==============================] - 5s 8ms/step - loss: 0.6601 - accuracy: 0.5698 - val_loss: 0.4682 - val_accuracy: 0.8103\n",
      "Epoch 2/20\n",
      "188/188 [==============================] - 1s 6ms/step - loss: 0.3882 - accuracy: 0.8367 - val_loss: 0.3602 - val_accuracy: 0.8449\n",
      "Epoch 3/20\n",
      "188/188 [==============================] - 1s 6ms/step - loss: 0.3313 - accuracy: 0.8611 - val_loss: 0.3568 - val_accuracy: 0.8449\n",
      "Epoch 4/20\n",
      "188/188 [==============================] - 1s 6ms/step - loss: 0.3141 - accuracy: 0.8677 - val_loss: 0.3528 - val_accuracy: 0.8463\n",
      "Epoch 5/20\n",
      "188/188 [==============================] - 1s 6ms/step - loss: 0.3035 - accuracy: 0.8737 - val_loss: 0.3552 - val_accuracy: 0.8453\n",
      "Epoch 6/20\n",
      "188/188 [==============================] - 1s 6ms/step - loss: 0.2952 - accuracy: 0.8775 - val_loss: 0.3634 - val_accuracy: 0.8448\n",
      "Epoch 7/20\n",
      "188/188 [==============================] - 1s 6ms/step - loss: 0.2892 - accuracy: 0.8795 - val_loss: 0.3697 - val_accuracy: 0.8414\n",
      "Epoch 8/20\n",
      "188/188 [==============================] - 1s 6ms/step - loss: 0.2808 - accuracy: 0.8825 - val_loss: 0.3733 - val_accuracy: 0.8427\n",
      "Epoch 9/20\n",
      "188/188 [==============================] - 1s 6ms/step - loss: 0.2702 - accuracy: 0.8852 - val_loss: 0.3882 - val_accuracy: 0.8413\n",
      "Epoch 10/20\n",
      "188/188 [==============================] - 1s 6ms/step - loss: 0.2592 - accuracy: 0.8886 - val_loss: 0.3921 - val_accuracy: 0.8425\n",
      "Epoch 11/20\n",
      "188/188 [==============================] - 1s 6ms/step - loss: 0.2473 - accuracy: 0.8907 - val_loss: 0.4164 - val_accuracy: 0.8405\n",
      "Epoch 12/20\n",
      "188/188 [==============================] - 1s 6ms/step - loss: 0.2373 - accuracy: 0.8949 - val_loss: 0.4215 - val_accuracy: 0.8407\n",
      "Epoch 13/20\n",
      "188/188 [==============================] - 1s 6ms/step - loss: 0.2288 - accuracy: 0.8966 - val_loss: 0.4345 - val_accuracy: 0.8400\n",
      "Epoch 14/20\n",
      "188/188 [==============================] - 1s 6ms/step - loss: 0.2206 - accuracy: 0.8993 - val_loss: 0.4438 - val_accuracy: 0.8385\n",
      "Epoch 15/20\n",
      "188/188 [==============================] - 1s 6ms/step - loss: 0.2138 - accuracy: 0.9018 - val_loss: 0.4578 - val_accuracy: 0.8401\n",
      "Epoch 16/20\n",
      "188/188 [==============================] - 1s 6ms/step - loss: 0.2072 - accuracy: 0.9041 - val_loss: 0.4753 - val_accuracy: 0.8342\n",
      "Epoch 17/20\n",
      "188/188 [==============================] - 1s 6ms/step - loss: 0.1992 - accuracy: 0.9079 - val_loss: 0.4849 - val_accuracy: 0.8385\n",
      "Epoch 18/20\n",
      "188/188 [==============================] - 1s 6ms/step - loss: 0.1936 - accuracy: 0.9106 - val_loss: 0.5007 - val_accuracy: 0.8378\n",
      "Epoch 19/20\n",
      "188/188 [==============================] - 1s 6ms/step - loss: 0.1880 - accuracy: 0.9143 - val_loss: 0.5037 - val_accuracy: 0.8228\n",
      "Epoch 20/20\n",
      "188/188 [==============================] - 1s 6ms/step - loss: 0.1825 - accuracy: 0.9155 - val_loss: 0.4988 - val_accuracy: 0.8226\n"
     ]
    }
   ],
   "source": [
    "model.compile(optimizer='adam',\n",
    "              loss='binary_crossentropy',\n",
    "              metrics=['accuracy'])\n",
    "              \n",
    "epochs=20  # 몇 epoch를 훈련하면 좋을지 결과를 보면서 바꾸어 봅시다. \n",
    "\n",
    "history = model.fit(partial_X_train,\n",
    "                    partial_y_train,\n",
    "                    epochs=epochs,\n",
    "                    batch_size=512,\n",
    "                    validation_data=(X_val, y_val),\n",
    "                    verbose=1)"
   ]
  },
  {
   "cell_type": "code",
   "execution_count": 14,
   "id": "61a9ff8b",
   "metadata": {},
   "outputs": [
    {
     "name": "stdout",
     "output_type": "stream",
     "text": [
      "1537/1537 - 3s - loss: 0.5014 - accuracy: 0.8201\n",
      "[0.5013724565505981, 0.820086658000946]\n"
     ]
    }
   ],
   "source": [
    "results = model.evaluate(X_test,  y_test, verbose=2)\n",
    "\n",
    "print(results)"
   ]
  },
  {
   "cell_type": "code",
   "execution_count": 15,
   "id": "f87a3875",
   "metadata": {},
   "outputs": [
    {
     "name": "stdout",
     "output_type": "stream",
     "text": [
      "dict_keys(['loss', 'accuracy', 'val_loss', 'val_accuracy'])\n"
     ]
    }
   ],
   "source": [
    "history_dict = history.history\n",
    "print(history_dict.keys()) # epoch에 따른 그래프를 그려볼 수 있는 항목들"
   ]
  },
  {
   "cell_type": "code",
   "execution_count": 16,
   "id": "a113948e",
   "metadata": {},
   "outputs": [
    {
     "data": {
      "image/png": "[encoded data removed]",
      "text/plain": [
       "<Figure size 432x288 with 1 Axes>"
      ]
     },
     "metadata": {
      "needs_background": "light"
     },
     "output_type": "display_data"
    }
   ],
   "source": [
    "import matplotlib.pyplot as plt\n",
    "\n",
    "acc = history_dict['accuracy']\n",
    "val_acc = history_dict['val_accuracy']\n",
    "loss = history_dict['loss']\n",
    "val_loss = history_dict['val_loss']\n",
    "\n",
    "epochs = range(1, len(acc) + 1)\n",
    "\n",
    "# \"bo\"는 \"파란색 점\"입니다\n",
    "plt.plot(epochs, loss, 'bo', label='Training loss')\n",
    "# b는 \"파란 실선\"입니다\n",
    "plt.plot(epochs, val_loss, 'b', label='Validation loss')\n",
    "plt.title('Training and validation loss')\n",
    "plt.xlabel('Epochs')\n",
    "plt.ylabel('Loss')\n",
    "plt.legend()\n",
    "\n",
    "plt.show()"
   ]
  },
  {
   "cell_type": "code",
   "execution_count": 17,
   "id": "bb4247fc",
   "metadata": {},
   "outputs": [
    {
     "data": {
      "image/png": "[encoded data removed]",
      "text/plain": [
       "<Figure size 432x288 with 1 Axes>"
      ]
     },
     "metadata": {
      "needs_background": "light"
     },
     "output_type": "display_data"
    }
   ],
   "source": [
    "plt.clf()   # 그림을 초기화합니다\n",
    "\n",
    "plt.plot(epochs, acc, 'bo', label='Training acc')\n",
    "plt.plot(epochs, val_acc, 'b', label='Validation acc')\n",
    "plt.title('Training and validation accuracy')\n",
    "plt.xlabel('Epochs')\n",
    "plt.ylabel('Accuracy')\n",
    "plt.legend()\n",
    "\n",
    "plt.show()"
   ]
  },
  {
   "cell_type": "markdown",
   "id": "78875485",
   "metadata": {},
   "source": [
    "## 1-D CNN"
   ]
  },
  {
   "cell_type": "code",
   "execution_count": 18,
   "id": "77070a61",
   "metadata": {},
   "outputs": [
    {
     "name": "stdout",
     "output_type": "stream",
     "text": [
      "Model: \"sequential_1\"\n",
      "_________________________________________________________________\n",
      "Layer (type)                 Output Shape              Param #   \n",
      "=================================================================\n",
      "embedding_1 (Embedding)      (None, None, 16)          160000    \n",
      "_________________________________________________________________\n",
      "conv1d (Conv1D)              (None, None, 16)          1808      \n",
      "_________________________________________________________________\n",
      "max_pooling1d (MaxPooling1D) (None, None, 16)          0         \n",
      "_________________________________________________________________\n",
      "conv1d_1 (Conv1D)            (None, None, 16)          1808      \n",
      "_________________________________________________________________\n",
      "global_max_pooling1d (Global (None, 16)                0         \n",
      "_________________________________________________________________\n",
      "dense_2 (Dense)              (None, 8)                 136       \n",
      "_________________________________________________________________\n",
      "dense_3 (Dense)              (None, 1)                 9         \n",
      "=================================================================\n",
      "Total params: 163,761\n",
      "Trainable params: 163,761\n",
      "Non-trainable params: 0\n",
      "_________________________________________________________________\n"
     ]
    }
   ],
   "source": [
    "model = tf.keras.Sequential()\n",
    "model.add(tf.keras.layers.Embedding(vocab_size, word_vector_dim, input_shape=(None,)))\n",
    "model.add(tf.keras.layers.Conv1D(16, 7, activation='relu'))\n",
    "model.add(tf.keras.layers.MaxPooling1D(5))\n",
    "model.add(tf.keras.layers.Conv1D(16, 7, activation='relu'))\n",
    "model.add(tf.keras.layers.GlobalMaxPooling1D())\n",
    "model.add(tf.keras.layers.Dense(8, activation='relu'))\n",
    "model.add(tf.keras.layers.Dense(1, activation='sigmoid'))  # 최종 출력은 긍정/부정을 나타내는 1dim 입니다.\n",
    "\n",
    "model.summary()"
   ]
  },
  {
   "cell_type": "code",
   "execution_count": 19,
   "id": "16a29668",
   "metadata": {},
   "outputs": [
    {
     "name": "stdout",
     "output_type": "stream",
     "text": [
      "Epoch 1/20\n",
      "188/188 [==============================] - 3s 7ms/step - loss: 0.5233 - accuracy: 0.7311 - val_loss: 0.3646 - val_accuracy: 0.8395\n",
      "Epoch 2/20\n",
      "188/188 [==============================] - 1s 5ms/step - loss: 0.3357 - accuracy: 0.8560 - val_loss: 0.3437 - val_accuracy: 0.8499\n",
      "Epoch 3/20\n",
      "188/188 [==============================] - 1s 5ms/step - loss: 0.2990 - accuracy: 0.8756 - val_loss: 0.3442 - val_accuracy: 0.8513\n",
      "Epoch 4/20\n",
      "188/188 [==============================] - 1s 5ms/step - loss: 0.2724 - accuracy: 0.8889 - val_loss: 0.3524 - val_accuracy: 0.8501\n",
      "Epoch 5/20\n",
      "188/188 [==============================] - 1s 5ms/step - loss: 0.2446 - accuracy: 0.9033 - val_loss: 0.3651 - val_accuracy: 0.8484\n",
      "Epoch 6/20\n",
      "188/188 [==============================] - 1s 6ms/step - loss: 0.2138 - accuracy: 0.9181 - val_loss: 0.3840 - val_accuracy: 0.8437\n",
      "Epoch 7/20\n",
      "188/188 [==============================] - 1s 5ms/step - loss: 0.1824 - accuracy: 0.9328 - val_loss: 0.4191 - val_accuracy: 0.8405\n",
      "Epoch 8/20\n",
      "188/188 [==============================] - 1s 5ms/step - loss: 0.1522 - accuracy: 0.9468 - val_loss: 0.4539 - val_accuracy: 0.8355\n",
      "Epoch 9/20\n",
      "188/188 [==============================] - 1s 5ms/step - loss: 0.1267 - accuracy: 0.9571 - val_loss: 0.5001 - val_accuracy: 0.8325\n",
      "Epoch 10/20\n",
      "188/188 [==============================] - 1s 5ms/step - loss: 0.1046 - accuracy: 0.9662 - val_loss: 0.5571 - val_accuracy: 0.8286\n",
      "Epoch 11/20\n",
      "188/188 [==============================] - 1s 5ms/step - loss: 0.0880 - accuracy: 0.9729 - val_loss: 0.6017 - val_accuracy: 0.8264\n",
      "Epoch 12/20\n",
      "188/188 [==============================] - 1s 5ms/step - loss: 0.0740 - accuracy: 0.9773 - val_loss: 0.6615 - val_accuracy: 0.8221\n",
      "Epoch 13/20\n",
      "188/188 [==============================] - 1s 5ms/step - loss: 0.0629 - accuracy: 0.9810 - val_loss: 0.7215 - val_accuracy: 0.8230\n",
      "Epoch 14/20\n",
      "188/188 [==============================] - 1s 5ms/step - loss: 0.0549 - accuracy: 0.9837 - val_loss: 0.7738 - val_accuracy: 0.8201\n",
      "Epoch 15/20\n",
      "188/188 [==============================] - 1s 5ms/step - loss: 0.0474 - accuracy: 0.9865 - val_loss: 0.7991 - val_accuracy: 0.8200\n",
      "Epoch 16/20\n",
      "188/188 [==============================] - 1s 5ms/step - loss: 0.0428 - accuracy: 0.9872 - val_loss: 0.8700 - val_accuracy: 0.8187\n",
      "Epoch 17/20\n",
      "188/188 [==============================] - 1s 5ms/step - loss: 0.0385 - accuracy: 0.9889 - val_loss: 0.9367 - val_accuracy: 0.8171\n",
      "Epoch 18/20\n",
      "188/188 [==============================] - 1s 5ms/step - loss: 0.0364 - accuracy: 0.9892 - val_loss: 0.9615 - val_accuracy: 0.8146\n",
      "Epoch 19/20\n",
      "188/188 [==============================] - 1s 5ms/step - loss: 0.0336 - accuracy: 0.9901 - val_loss: 1.0027 - val_accuracy: 0.8144\n",
      "Epoch 20/20\n",
      "188/188 [==============================] - 1s 5ms/step - loss: 0.0307 - accuracy: 0.9912 - val_loss: 1.0602 - val_accuracy: 0.8131\n"
     ]
    }
   ],
   "source": [
    "model.compile(optimizer='adam',\n",
    "              loss='binary_crossentropy',\n",
    "              metrics=['accuracy'])\n",
    "              \n",
    "epochs=20  # 몇 epoch를 훈련하면 좋을지 결과를 보면서 바꾸어 봅시다. \n",
    "\n",
    "history = model.fit(partial_X_train,\n",
    "                    partial_y_train,\n",
    "                    epochs=epochs,\n",
    "                    batch_size=512,\n",
    "                    validation_data=(X_val, y_val),\n",
    "                    verbose=1)"
   ]
  },
  {
   "cell_type": "code",
   "execution_count": 20,
   "id": "31e7803b",
   "metadata": {},
   "outputs": [
    {
     "name": "stdout",
     "output_type": "stream",
     "text": [
      "1537/1537 - 3s - loss: 1.0499 - accuracy: 0.8127\n",
      "[1.0499141216278076, 0.8127428293228149]\n"
     ]
    }
   ],
   "source": [
    "results = model.evaluate(X_test,  y_test, verbose=2)\n",
    "\n",
    "print(results)"
   ]
  },
  {
   "cell_type": "code",
   "execution_count": 21,
   "id": "cf74dfc3",
   "metadata": {},
   "outputs": [
    {
     "data": {
      "image/png": "[encoded data removed]",
      "text/plain": [
       "<Figure size 432x288 with 1 Axes>"
      ]
     },
     "metadata": {
      "needs_background": "light"
     },
     "output_type": "display_data"
    }
   ],
   "source": [
    "import matplotlib.pyplot as plt\n",
    "\n",
    "acc = history_dict['accuracy']\n",
    "val_acc = history_dict['val_accuracy']\n",
    "loss = history_dict['loss']\n",
    "val_loss = history_dict['val_loss']\n",
    "\n",
    "epochs = range(1, len(acc) + 1)\n",
    "\n",
    "# \"bo\"는 \"파란색 점\"입니다\n",
    "plt.plot(epochs, loss, 'bo', label='Training loss')\n",
    "# b는 \"파란 실선\"입니다\n",
    "plt.plot(epochs, val_loss, 'b', label='Validation loss')\n",
    "plt.title('Training and validation loss')\n",
    "plt.xlabel('Epochs')\n",
    "plt.ylabel('Loss')\n",
    "plt.legend()\n",
    "\n",
    "plt.show()"
   ]
  },
  {
   "cell_type": "code",
   "execution_count": 22,
   "id": "4fff7512",
   "metadata": {},
   "outputs": [
    {
     "data": {
      "image/png": "[encoded data removed]",
      "text/plain": [
       "<Figure size 432x288 with 1 Axes>"
      ]
     },
     "metadata": {
      "needs_background": "light"
     },
     "output_type": "display_data"
    }
   ],
   "source": [
    "plt.clf()   # 그림을 초기화합니다\n",
    "\n",
    "plt.plot(epochs, acc, 'bo', label='Training acc')\n",
    "plt.plot(epochs, val_acc, 'b', label='Validation acc')\n",
    "plt.title('Training and validation accuracy')\n",
    "plt.xlabel('Epochs')\n",
    "plt.ylabel('Accuracy')\n",
    "plt.legend()\n",
    "\n",
    "plt.show()"
   ]
  },
  {
   "cell_type": "markdown",
   "id": "e2ff0242",
   "metadata": {},
   "source": [
    "## GlobalMaxPooling1D"
   ]
  },
  {
   "cell_type": "code",
   "execution_count": 23,
   "id": "d9b8457d",
   "metadata": {},
   "outputs": [
    {
     "name": "stdout",
     "output_type": "stream",
     "text": [
      "Model: \"sequential_2\"\n",
      "_________________________________________________________________\n",
      "Layer (type)                 Output Shape              Param #   \n",
      "=================================================================\n",
      "embedding_2 (Embedding)      (None, None, 16)          160000    \n",
      "_________________________________________________________________\n",
      "global_max_pooling1d_1 (Glob (None, 16)                0         \n",
      "_________________________________________________________________\n",
      "dense_4 (Dense)              (None, 8)                 136       \n",
      "_________________________________________________________________\n",
      "dense_5 (Dense)              (None, 1)                 9         \n",
      "=================================================================\n",
      "Total params: 160,145\n",
      "Trainable params: 160,145\n",
      "Non-trainable params: 0\n",
      "_________________________________________________________________\n"
     ]
    }
   ],
   "source": [
    "model = tf.keras.Sequential()\n",
    "model.add(tf.keras.layers.Embedding(vocab_size, word_vector_dim, input_shape=(None,)))\n",
    "model.add(tf.keras.layers.GlobalMaxPooling1D())\n",
    "model.add(tf.keras.layers.Dense(8, activation='relu'))\n",
    "model.add(tf.keras.layers.Dense(1, activation='sigmoid'))  # 최종 출력은 긍정/부정을 나타내는 1dim 입니다.\n",
    "\n",
    "model.summary()"
   ]
  },
  {
   "cell_type": "code",
   "execution_count": 24,
   "id": "1c38ef20",
   "metadata": {
    "scrolled": true
   },
   "outputs": [
    {
     "name": "stdout",
     "output_type": "stream",
     "text": [
      "Epoch 1/20\n",
      "188/188 [==============================] - 1s 4ms/step - loss: 0.6074 - accuracy: 0.7494 - val_loss: 0.4703 - val_accuracy: 0.8125\n",
      "Epoch 2/20\n",
      "188/188 [==============================] - 1s 4ms/step - loss: 0.3969 - accuracy: 0.8335 - val_loss: 0.3708 - val_accuracy: 0.8355\n",
      "Epoch 3/20\n",
      "188/188 [==============================] - 1s 4ms/step - loss: 0.3339 - accuracy: 0.8587 - val_loss: 0.3559 - val_accuracy: 0.8426\n",
      "Epoch 4/20\n",
      "188/188 [==============================] - 1s 4ms/step - loss: 0.3017 - accuracy: 0.8754 - val_loss: 0.3546 - val_accuracy: 0.8456\n",
      "Epoch 5/20\n",
      "188/188 [==============================] - 1s 4ms/step - loss: 0.2780 - accuracy: 0.8871 - val_loss: 0.3577 - val_accuracy: 0.8459\n",
      "Epoch 6/20\n",
      "188/188 [==============================] - 1s 4ms/step - loss: 0.2590 - accuracy: 0.8967 - val_loss: 0.3651 - val_accuracy: 0.8448\n",
      "Epoch 7/20\n",
      "188/188 [==============================] - 1s 4ms/step - loss: 0.2427 - accuracy: 0.9036 - val_loss: 0.3742 - val_accuracy: 0.8425\n",
      "Epoch 8/20\n",
      "188/188 [==============================] - 1s 4ms/step - loss: 0.2282 - accuracy: 0.9102 - val_loss: 0.3843 - val_accuracy: 0.8425\n",
      "Epoch 9/20\n",
      "188/188 [==============================] - 1s 4ms/step - loss: 0.2153 - accuracy: 0.9168 - val_loss: 0.3961 - val_accuracy: 0.8405\n",
      "Epoch 10/20\n",
      "188/188 [==============================] - 1s 4ms/step - loss: 0.2036 - accuracy: 0.9222 - val_loss: 0.4088 - val_accuracy: 0.8395\n",
      "Epoch 11/20\n",
      "188/188 [==============================] - 1s 4ms/step - loss: 0.1931 - accuracy: 0.9278 - val_loss: 0.4217 - val_accuracy: 0.8376\n",
      "Epoch 12/20\n",
      "188/188 [==============================] - 1s 4ms/step - loss: 0.1835 - accuracy: 0.9325 - val_loss: 0.4361 - val_accuracy: 0.8366\n",
      "Epoch 13/20\n",
      "188/188 [==============================] - 1s 4ms/step - loss: 0.1745 - accuracy: 0.9357 - val_loss: 0.4506 - val_accuracy: 0.8349\n",
      "Epoch 14/20\n",
      "188/188 [==============================] - 1s 4ms/step - loss: 0.1664 - accuracy: 0.9398 - val_loss: 0.4648 - val_accuracy: 0.8335\n",
      "Epoch 15/20\n",
      "188/188 [==============================] - 1s 4ms/step - loss: 0.1590 - accuracy: 0.9432 - val_loss: 0.4803 - val_accuracy: 0.8316\n",
      "Epoch 16/20\n",
      "188/188 [==============================] - 1s 4ms/step - loss: 0.1519 - accuracy: 0.9462 - val_loss: 0.4942 - val_accuracy: 0.8315\n",
      "Epoch 17/20\n",
      "188/188 [==============================] - 1s 4ms/step - loss: 0.1454 - accuracy: 0.9493 - val_loss: 0.5106 - val_accuracy: 0.8293\n",
      "Epoch 18/20\n",
      "188/188 [==============================] - 1s 4ms/step - loss: 0.1392 - accuracy: 0.9517 - val_loss: 0.5261 - val_accuracy: 0.8278\n",
      "Epoch 19/20\n",
      "188/188 [==============================] - 1s 4ms/step - loss: 0.1336 - accuracy: 0.9544 - val_loss: 0.5407 - val_accuracy: 0.8276\n",
      "Epoch 20/20\n",
      "188/188 [==============================] - 1s 4ms/step - loss: 0.1285 - accuracy: 0.9561 - val_loss: 0.5562 - val_accuracy: 0.8255\n"
     ]
    }
   ],
   "source": [
    "model.compile(optimizer='adam',\n",
    "              loss='binary_crossentropy',\n",
    "              metrics=['accuracy'])\n",
    "              \n",
    "epochs=20  # 몇 epoch를 훈련하면 좋을지 결과를 보면서 바꾸어 봅시다. \n",
    "\n",
    "history = model.fit(partial_X_train,\n",
    "                    partial_y_train,\n",
    "                    epochs=epochs,\n",
    "                    batch_size=512,\n",
    "                    validation_data=(X_val, y_val),\n",
    "                    verbose=1)"
   ]
  },
  {
   "cell_type": "code",
   "execution_count": 25,
   "id": "13221f6d",
   "metadata": {},
   "outputs": [
    {
     "name": "stdout",
     "output_type": "stream",
     "text": [
      "1537/1537 - 2s - loss: 0.5690 - accuracy: 0.8186\n",
      "[0.569024384021759, 0.8186016082763672]\n"
     ]
    }
   ],
   "source": [
    "results = model.evaluate(X_test,  y_test, verbose=2)\n",
    "\n",
    "print(results)"
   ]
  },
  {
   "cell_type": "code",
   "execution_count": 26,
   "id": "99df11bf",
   "metadata": {},
   "outputs": [
    {
     "data": {
      "image/png": "[encoded data removed]",
      "text/plain": [
       "<Figure size 432x288 with 1 Axes>"
      ]
     },
     "metadata": {
      "needs_background": "light"
     },
     "output_type": "display_data"
    }
   ],
   "source": [
    "import matplotlib.pyplot as plt\n",
    "\n",
    "acc = history_dict['accuracy']\n",
    "val_acc = history_dict['val_accuracy']\n",
    "loss = history_dict['loss']\n",
    "val_loss = history_dict['val_loss']\n",
    "\n",
    "epochs = range(1, len(acc) + 1)\n",
    "\n",
    "# \"bo\"는 \"파란색 점\"입니다\n",
    "plt.plot(epochs, loss, 'bo', label='Training loss')\n",
    "# b는 \"파란 실선\"입니다\n",
    "plt.plot(epochs, val_loss, 'b', label='Validation loss')\n",
    "plt.title('Training and validation loss')\n",
    "plt.xlabel('Epochs')\n",
    "plt.ylabel('Loss')\n",
    "plt.legend()\n",
    "\n",
    "plt.show()"
   ]
  },
  {
   "cell_type": "code",
   "execution_count": 27,
   "id": "ad1fdd00",
   "metadata": {},
   "outputs": [
    {
     "data": {
      "image/png": "[encoded data removed]",
      "text/plain": [
       "<Figure size 432x288 with 1 Axes>"
      ]
     },
     "metadata": {
      "needs_background": "light"
     },
     "output_type": "display_data"
    }
   ],
   "source": [
    "plt.clf()   # 그림을 초기화합니다\n",
    "\n",
    "plt.plot(epochs, acc, 'bo', label='Training acc')\n",
    "plt.plot(epochs, val_acc, 'b', label='Validation acc')\n",
    "plt.title('Training and validation accuracy')\n",
    "plt.xlabel('Epochs')\n",
    "plt.ylabel('Accuracy')\n",
    "plt.legend()\n",
    "\n",
    "plt.show()"
   ]
  },
  {
   "cell_type": "markdown",
   "id": "37ac3331",
   "metadata": {},
   "source": [
    "# 8) Word2Vec"
   ]
  },
  {
   "cell_type": "code",
   "execution_count": 28,
   "id": "35327507",
   "metadata": {},
   "outputs": [
    {
     "name": "stdout",
     "output_type": "stream",
     "text": [
      "(10000, 16)\n"
     ]
    }
   ],
   "source": [
    "embedding_layer = model.layers[0]\n",
    "weights = embedding_layer.get_weights()[0]\n",
    "print(weights.shape)    # shape: (vocab_size, embedding_dim)"
   ]
  },
  {
   "cell_type": "code",
   "execution_count": 30,
   "id": "1bcda31c",
   "metadata": {},
   "outputs": [],
   "source": [
    "# 학습한 Embedding 파라미터를 파일에 써서 저장합니다. \n",
    "word2vec_file_path = os.getenv('HOME')+'/aiffel/sentiment_classification/data/word2vec_project.txt'\n",
    "f = open(word2vec_file_path, 'w')\n",
    "f.write('{} {}\\n'.format(vocab_size-4, word_vector_dim))  # 몇개의 벡터를 얼마 사이즈로 기재할지 타이틀을 씁니다.\n",
    "\n",
    "# 단어 개수(에서 특수문자 4개는 제외하고)만큼의 워드 벡터를 파일에 기록합니다. \n",
    "vectors = model.get_weights()[0]\n",
    "for i in range(4,vocab_size):\n",
    "    f.write('{} {}\\n'.format(index_to_word[i], ' '.join(map(str, list(vectors[i, :])))))\n",
    "f.close()"
   ]
  },
  {
   "cell_type": "markdown",
   "id": "aecc3e77",
   "metadata": {},
   "source": [
    "## 유사단어 찾기 활용 - 자체학습"
   ]
  },
  {
   "cell_type": "code",
   "execution_count": 32,
   "id": "27c7fb0c",
   "metadata": {},
   "outputs": [
    {
     "data": {
      "text/plain": [
       "array([-0.20647545, -0.26257968, -0.19907652, -0.24484156,  0.18805546,\n",
       "       -0.23083988, -0.2552949 , -0.17436592, -0.27744043, -0.21379375,\n",
       "       -0.1983613 , -0.23906757, -0.19518906, -0.21488129, -0.25659266,\n",
       "       -0.21953447], dtype=float32)"
      ]
     },
     "execution_count": 32,
     "metadata": {},
     "output_type": "execute_result"
    }
   ],
   "source": [
    "from gensim.models.keyedvectors import Word2VecKeyedVectors\n",
    "\n",
    "word_vectors = Word2VecKeyedVectors.load_word2vec_format(word2vec_file_path, binary =False)\n",
    "vector = word_vectors['영화']\n",
    "vector"
   ]
  },
  {
   "cell_type": "code",
   "execution_count": 33,
   "id": "b2f2abc8",
   "metadata": {},
   "outputs": [
    {
     "data": {
      "text/plain": [
       "[('.', 0.9858620166778564),\n",
       " ('다', 0.9830264449119568),\n",
       " ('음', 0.9794443845748901),\n",
       " ('너무', 0.9765841960906982),\n",
       " ('스럽', 0.971136748790741),\n",
       " ('하', 0.9657515287399292),\n",
       " ('웹툰', 0.9625353813171387),\n",
       " ('매번', 0.9612272381782532),\n",
       " ('고', 0.9544894099235535),\n",
       " ('여서', 0.9522830843925476)]"
      ]
     },
     "execution_count": 33,
     "metadata": {},
     "output_type": "execute_result"
    }
   ],
   "source": [
    "word_vectors.similar_by_word('영화')"
   ]
  },
  {
   "cell_type": "markdown",
   "id": "c2a4aba2",
   "metadata": {},
   "source": [
    "## 유사단어 찾기 활용 - 사전학습"
   ]
  },
  {
   "cell_type": "code",
   "execution_count": 35,
   "id": "041807e1",
   "metadata": {},
   "outputs": [],
   "source": [
    "from gensim.models import KeyedVectors\n",
    "\n",
    "word2vec_path = os.getenv('HOME')+'/data/word2vec_ko.model'"
   ]
  },
  {
   "cell_type": "code",
   "execution_count": 36,
   "id": "8b098546",
   "metadata": {},
   "outputs": [
    {
     "data": {
      "text/plain": [
       "array([-1.8007389 , -1.1790098 , -2.4066596 ,  2.1384156 , -0.3537603 ,\n",
       "        1.3749527 , -4.894612  , -3.6517198 ,  0.4411444 ,  0.78153926,\n",
       "       -2.696888  , -1.7812852 , -2.1514654 , -4.813236  ,  2.7465918 ,\n",
       "       -2.1620324 , -0.11467794, -1.2431171 ,  2.3979309 , -1.1060628 ,\n",
       "       -0.41043055,  1.9500391 ,  0.7821002 ,  1.5899978 ,  1.6447444 ,\n",
       "       -2.1265035 , -1.7981595 ,  1.7535795 ,  0.53717697, -1.212121  ,\n",
       "       -4.466316  ,  4.5488324 ,  1.334441  , -0.9070271 ,  1.1931889 ,\n",
       "        4.1563215 ,  1.9758307 , -0.9437562 , -0.2592725 ,  0.34935686,\n",
       "        1.8562875 , -3.3249645 ,  1.1221625 ,  1.2836524 ,  3.9211376 ,\n",
       "        3.8023994 ,  2.766269  ,  0.67293745,  2.2853644 , -5.1131716 ,\n",
       "        0.32525915, -3.3079958 ,  5.3043513 , -3.8813758 , -0.32960036,\n",
       "       -1.9527504 ,  3.8865075 , -3.5470378 , -0.21991685,  0.82119733,\n",
       "       -0.9492492 ,  3.5472107 ,  1.322048  , -0.70640826,  0.52253807,\n",
       "        1.4683235 , -1.1018689 ,  2.262941  , -0.7204685 , -1.766201  ,\n",
       "        5.2237577 ,  3.0748682 ,  1.0977576 ,  3.3191733 , -0.4100423 ,\n",
       "       -1.7022891 , -0.78379875,  0.82586575, -0.54520637,  1.2355382 ,\n",
       "        2.02674   , -0.652447  ,  1.0866054 ,  0.8977641 ,  0.7928342 ,\n",
       "        3.7770627 ,  3.0274863 ,  5.1660023 ,  2.6461644 ,  2.8926868 ,\n",
       "        1.970944  , -3.3746543 , -5.2656593 , -1.1041485 ,  2.357547  ,\n",
       "       -2.3570824 , -4.8172383 ,  3.7290223 ,  4.62329   ,  1.5004613 ],\n",
       "      dtype=float32)"
      ]
     },
     "execution_count": 36,
     "metadata": {},
     "output_type": "execute_result"
    }
   ],
   "source": [
    "from gensim.models import Word2Vec\n",
    "\n",
    "word2vec = Word2Vec.load(word2vec_path)\n",
    "vector = word2vec.wv['영화']\n",
    "vector"
   ]
  },
  {
   "cell_type": "code",
   "execution_count": 38,
   "id": "19032647",
   "metadata": {},
   "outputs": [
    {
     "data": {
      "text/plain": [
       "[('드라마', 0.8418774008750916),\n",
       " ('뮤지컬', 0.7775140404701233),\n",
       " ('코미디', 0.7489107251167297),\n",
       " ('다큐멘터리', 0.7401294708251953),\n",
       " ('헐리우드', 0.7397844195365906),\n",
       " ('애니메이션', 0.7170552015304565),\n",
       " ('독립영화', 0.7113528251647949),\n",
       " ('로맨틱', 0.7107657194137573),\n",
       " ('장편', 0.7101576924324036),\n",
       " ('극영화', 0.7045413255691528)]"
      ]
     },
     "execution_count": 38,
     "metadata": {},
     "output_type": "execute_result"
    }
   ],
   "source": [
    "word2vec.wv.similar_by_word(\"영화\")"
   ]
  },
  {
   "cell_type": "code",
   "execution_count": 39,
   "id": "11f2eddd",
   "metadata": {},
   "outputs": [
    {
     "data": {
      "text/plain": [
       "(100,)"
      ]
     },
     "execution_count": 39,
     "metadata": {},
     "output_type": "execute_result"
    }
   ],
   "source": [
    "vector.shape"
   ]
  },
  {
   "cell_type": "code",
   "execution_count": 41,
   "id": "0de4c8c4",
   "metadata": {},
   "outputs": [],
   "source": [
    "vocab_size = 10000\n",
    "word_vector_dim = 100\n",
    "embedding_matrix = np.random.rand(vocab_size, word_vector_dim)\n",
    "\n",
    "# embedding_metrix 에 Word2Vec 워드 벡터를 단어 하나씩마다 차례차례 카피한다.\n",
    "for i in range(4, vocab_size):\n",
    "  if index_to_word[i] in word2vec.wv:\n",
    "    embedding_matrix[i] = word2vec.wv[index_to_word[i]]"
   ]
  },
  {
   "cell_type": "markdown",
   "id": "dd2c2355",
   "metadata": {},
   "source": [
    "## RNN"
   ]
  },
  {
   "cell_type": "code",
   "execution_count": 42,
   "id": "195ac5d4",
   "metadata": {},
   "outputs": [
    {
     "name": "stdout",
     "output_type": "stream",
     "text": [
      "Model: \"sequential_3\"\n",
      "_________________________________________________________________\n",
      "Layer (type)                 Output Shape              Param #   \n",
      "=================================================================\n",
      "embedding_3 (Embedding)      (None, 41, 100)           1000000   \n",
      "_________________________________________________________________\n",
      "conv1d_2 (Conv1D)            (None, 35, 16)            11216     \n",
      "_________________________________________________________________\n",
      "max_pooling1d_1 (MaxPooling1 (None, 7, 16)             0         \n",
      "_________________________________________________________________\n",
      "conv1d_3 (Conv1D)            (None, 1, 16)             1808      \n",
      "_________________________________________________________________\n",
      "global_max_pooling1d_2 (Glob (None, 16)                0         \n",
      "_________________________________________________________________\n",
      "dense_6 (Dense)              (None, 8)                 136       \n",
      "_________________________________________________________________\n",
      "dense_7 (Dense)              (None, 1)                 9         \n",
      "=================================================================\n",
      "Total params: 1,013,169\n",
      "Trainable params: 1,013,169\n",
      "Non-trainable params: 0\n",
      "_________________________________________________________________\n"
     ]
    }
   ],
   "source": [
    "from tensorflow.keras.initializers import Constant\n",
    "\n",
    "# 모델 구성\n",
    "model = tf.keras.Sequential()\n",
    "model.add(tf.keras.layers.Embedding(vocab_size, \n",
    "                                 word_vector_dim, \n",
    "                                 embeddings_initializer=Constant(embedding_matrix),  # 카피한 임베딩을 여기서 활용\n",
    "                                 input_length=maxlen, \n",
    "                                 trainable=True))   # trainable을 True로 주면 Fine-tuning\n",
    "model.add(tf.keras.layers.Conv1D(16, 7, activation='relu'))\n",
    "model.add(tf.keras.layers.MaxPooling1D(5))\n",
    "model.add(tf.keras.layers.Conv1D(16, 7, activation='relu'))\n",
    "model.add(tf.keras.layers.GlobalMaxPooling1D())\n",
    "model.add(tf.keras.layers.Dense(8, activation='relu'))\n",
    "model.add(tf.keras.layers.Dense(1, activation='sigmoid')) \n",
    "\n",
    "model.summary()"
   ]
  },
  {
   "cell_type": "code",
   "execution_count": 48,
   "id": "f7fcc764",
   "metadata": {},
   "outputs": [
    {
     "name": "stdout",
     "output_type": "stream",
     "text": [
      "Epoch 1/5\n",
      "188/188 [==============================] - 2s 7ms/step - loss: 0.1198 - accuracy: 0.9601 - val_loss: 0.5942 - val_accuracy: 0.8294\n",
      "Epoch 2/5\n",
      "188/188 [==============================] - 1s 6ms/step - loss: 0.1117 - accuracy: 0.9635 - val_loss: 0.6058 - val_accuracy: 0.8281\n",
      "Epoch 3/5\n",
      "188/188 [==============================] - 1s 6ms/step - loss: 0.1080 - accuracy: 0.9643 - val_loss: 0.6365 - val_accuracy: 0.8271\n",
      "Epoch 4/5\n",
      "188/188 [==============================] - 1s 5ms/step - loss: 0.1032 - accuracy: 0.9663 - val_loss: 0.6547 - val_accuracy: 0.8270\n",
      "Epoch 5/5\n",
      "188/188 [==============================] - 1s 6ms/step - loss: 0.0957 - accuracy: 0.9693 - val_loss: 0.6777 - val_accuracy: 0.8275\n"
     ]
    }
   ],
   "source": [
    "model.compile(optimizer='adam',\n",
    "              loss='binary_crossentropy',\n",
    "              metrics=['accuracy'])\n",
    "              \n",
    "epochs=5  # 몇 epoch를 훈련하면 좋을지 결과를 보면서 바꾸어 봅시다. \n",
    "\n",
    "history = model.fit(partial_X_train,\n",
    "                    partial_y_train,\n",
    "                    epochs=epochs,\n",
    "                    batch_size=512,\n",
    "                    validation_data=(X_val, y_val),\n",
    "                    verbose=1)"
   ]
  },
  {
   "cell_type": "code",
   "execution_count": 49,
   "id": "1623c379",
   "metadata": {},
   "outputs": [
    {
     "name": "stdout",
     "output_type": "stream",
     "text": [
      "1537/1537 - 2s - loss: 0.6971 - accuracy: 0.8223\n",
      "[0.6971064805984497, 0.8223243951797485]\n"
     ]
    }
   ],
   "source": [
    "# 테스트셋을 통한 모델 평가\n",
    "results = model.evaluate(X_test,  y_test, verbose=2)\n",
    "\n",
    "print(results)"
   ]
  },
  {
   "cell_type": "markdown",
   "id": "fca3f0c6",
   "metadata": {},
   "source": [
    "## 1-D CNN"
   ]
  },
  {
   "cell_type": "code",
   "execution_count": 50,
   "id": "f82b7483",
   "metadata": {},
   "outputs": [
    {
     "name": "stdout",
     "output_type": "stream",
     "text": [
      "Model: \"sequential_4\"\n",
      "_________________________________________________________________\n",
      "Layer (type)                 Output Shape              Param #   \n",
      "=================================================================\n",
      "embedding_4 (Embedding)      (None, 41, 100)           1000000   \n",
      "_________________________________________________________________\n",
      "conv1d_4 (Conv1D)            (None, 38, 16)            6416      \n",
      "_________________________________________________________________\n",
      "max_pooling1d_2 (MaxPooling1 (None, 9, 16)             0         \n",
      "_________________________________________________________________\n",
      "conv1d_5 (Conv1D)            (None, 6, 16)             1040      \n",
      "_________________________________________________________________\n",
      "global_max_pooling1d_3 (Glob (None, 16)                0         \n",
      "_________________________________________________________________\n",
      "dense_8 (Dense)              (None, 16)                272       \n",
      "_________________________________________________________________\n",
      "dense_9 (Dense)              (None, 1)                 17        \n",
      "=================================================================\n",
      "Total params: 1,007,745\n",
      "Trainable params: 1,007,745\n",
      "Non-trainable params: 0\n",
      "_________________________________________________________________\n"
     ]
    }
   ],
   "source": [
    "# 모델 구성\n",
    "model = tf.keras.Sequential()\n",
    "model.add(tf.keras.layers.Embedding(vocab_size, \n",
    "                                 word_vector_dim, \n",
    "                                 embeddings_initializer=Constant(embedding_matrix),  # 카피한 임베딩을 여기서 활용\n",
    "                                 input_length=maxlen, \n",
    "                                 trainable=True))   # trainable을 True로 주면 Fine-tuning\n",
    "model.add(tf.keras.layers.Conv1D(16, 4, activation='relu'))\n",
    "model.add(tf.keras.layers.MaxPooling1D(4))\n",
    "model.add(tf.keras.layers.Conv1D(16, 4, activation='relu'))\n",
    "model.add(tf.keras.layers.GlobalMaxPooling1D())\n",
    "model.add(tf.keras.layers.Dense(16, activation='relu'))\n",
    "model.add(tf.keras.layers.Dense(1, activation='sigmoid')) \n",
    "\n",
    "model.summary()"
   ]
  },
  {
   "cell_type": "code",
   "execution_count": 51,
   "id": "871f7058",
   "metadata": {},
   "outputs": [
    {
     "name": "stdout",
     "output_type": "stream",
     "text": [
      "Epoch 1/10\n",
      "188/188 [==============================] - 2s 7ms/step - loss: 0.6579 - accuracy: 0.6221 - val_loss: 0.5628 - val_accuracy: 0.7121\n",
      "Epoch 2/10\n",
      "188/188 [==============================] - 1s 5ms/step - loss: 0.5209 - accuracy: 0.7440 - val_loss: 0.4931 - val_accuracy: 0.7648\n",
      "Epoch 3/10\n",
      "188/188 [==============================] - 1s 6ms/step - loss: 0.4571 - accuracy: 0.7884 - val_loss: 0.4453 - val_accuracy: 0.7942\n",
      "Epoch 4/10\n",
      "188/188 [==============================] - 1s 6ms/step - loss: 0.4116 - accuracy: 0.8142 - val_loss: 0.4217 - val_accuracy: 0.8096\n",
      "Epoch 5/10\n",
      "188/188 [==============================] - 1s 6ms/step - loss: 0.3782 - accuracy: 0.8338 - val_loss: 0.3987 - val_accuracy: 0.8216\n",
      "Epoch 6/10\n",
      "188/188 [==============================] - 1s 6ms/step - loss: 0.3545 - accuracy: 0.8454 - val_loss: 0.3927 - val_accuracy: 0.8249\n",
      "Epoch 7/10\n",
      "188/188 [==============================] - 1s 6ms/step - loss: 0.3323 - accuracy: 0.8581 - val_loss: 0.3832 - val_accuracy: 0.8313\n",
      "Epoch 8/10\n",
      "188/188 [==============================] - 1s 6ms/step - loss: 0.3153 - accuracy: 0.8668 - val_loss: 0.3762 - val_accuracy: 0.8350\n",
      "Epoch 9/10\n",
      "188/188 [==============================] - 1s 6ms/step - loss: 0.2985 - accuracy: 0.8755 - val_loss: 0.3717 - val_accuracy: 0.8379\n",
      "Epoch 10/10\n",
      "188/188 [==============================] - 1s 5ms/step - loss: 0.2855 - accuracy: 0.8824 - val_loss: 0.3753 - val_accuracy: 0.8395\n"
     ]
    }
   ],
   "source": [
    "model.compile(optimizer='adam',\n",
    "              loss='binary_crossentropy',\n",
    "              metrics=['accuracy'])\n",
    "              \n",
    "epochs=10  # 몇 epoch를 훈련하면 좋을지 결과를 보면서 바꾸어 봅시다. \n",
    "\n",
    "history = model.fit(partial_X_train,\n",
    "                    partial_y_train,\n",
    "                    epochs=epochs,\n",
    "                    batch_size=512,\n",
    "                    validation_data=(X_val, y_val),\n",
    "                    verbose=1)"
   ]
  },
  {
   "cell_type": "code",
   "execution_count": 52,
   "id": "d90852d6",
   "metadata": {},
   "outputs": [
    {
     "name": "stdout",
     "output_type": "stream",
     "text": [
      "1537/1537 - 2s - loss: 0.3836 - accuracy: 0.8357\n",
      "[0.3835502564907074, 0.8357304334640503]\n"
     ]
    }
   ],
   "source": [
    "results = model.evaluate(X_test, y_test, verbose = 2)\n",
    "print(results)"
   ]
  },
  {
   "cell_type": "markdown",
   "id": "54f8525f",
   "metadata": {},
   "source": [
    "## GlobalMaxPooling1D"
   ]
  },
  {
   "cell_type": "code",
   "execution_count": 55,
   "id": "aea1e927",
   "metadata": {},
   "outputs": [
    {
     "name": "stdout",
     "output_type": "stream",
     "text": [
      "Model: \"sequential_6\"\n",
      "_________________________________________________________________\n",
      "Layer (type)                 Output Shape              Param #   \n",
      "=================================================================\n",
      "embedding_6 (Embedding)      (None, 41, 100)           1000000   \n",
      "_________________________________________________________________\n",
      "global_max_pooling1d_4 (Glob (None, 100)               0         \n",
      "_________________________________________________________________\n",
      "dense_10 (Dense)             (None, 16)                1616      \n",
      "_________________________________________________________________\n",
      "dense_11 (Dense)             (None, 1)                 17        \n",
      "=================================================================\n",
      "Total params: 1,001,633\n",
      "Trainable params: 1,001,633\n",
      "Non-trainable params: 0\n",
      "_________________________________________________________________\n"
     ]
    }
   ],
   "source": [
    "# 모델 구성\n",
    "model = tf.keras.Sequential()\n",
    "model.add(tf.keras.layers.Embedding(vocab_size, \n",
    "                                 word_vector_dim, \n",
    "                                 embeddings_initializer=Constant(embedding_matrix),  # 카피한 임베딩을 여기서 활용\n",
    "                                 input_length=maxlen, \n",
    "                                 trainable=True))   # trainable을 True로 주면 Fine-tuning\n",
    "\n",
    "model.add(keras.layers.GlobalMaxPooling1D())\n",
    "model.add(keras.layers.Dense(16, activation='relu'))\n",
    "model.add(keras.layers.Dense(1, activation='sigmoid'))\n",
    "\n",
    "model.summary()"
   ]
  },
  {
   "cell_type": "code",
   "execution_count": 56,
   "id": "a8402583",
   "metadata": {},
   "outputs": [
    {
     "name": "stdout",
     "output_type": "stream",
     "text": [
      "Epoch 1/10\n",
      "188/188 [==============================] - 1s 5ms/step - loss: 0.7343 - accuracy: 0.5885 - val_loss: 0.6346 - val_accuracy: 0.6457\n",
      "Epoch 2/10\n",
      "188/188 [==============================] - 1s 4ms/step - loss: 0.6153 - accuracy: 0.6640 - val_loss: 0.5931 - val_accuracy: 0.6838\n",
      "Epoch 3/10\n",
      "188/188 [==============================] - 1s 4ms/step - loss: 0.5862 - accuracy: 0.6899 - val_loss: 0.5714 - val_accuracy: 0.7033\n",
      "Epoch 4/10\n",
      "188/188 [==============================] - 1s 4ms/step - loss: 0.5634 - accuracy: 0.7080 - val_loss: 0.5596 - val_accuracy: 0.7126\n",
      "Epoch 5/10\n",
      "188/188 [==============================] - 1s 4ms/step - loss: 0.5412 - accuracy: 0.7260 - val_loss: 0.5386 - val_accuracy: 0.7268\n",
      "Epoch 6/10\n",
      "188/188 [==============================] - 1s 4ms/step - loss: 0.5246 - accuracy: 0.7377 - val_loss: 0.5220 - val_accuracy: 0.7397\n",
      "Epoch 7/10\n",
      "188/188 [==============================] - 1s 4ms/step - loss: 0.5078 - accuracy: 0.7504 - val_loss: 0.5099 - val_accuracy: 0.7476\n",
      "Epoch 8/10\n",
      "188/188 [==============================] - 1s 4ms/step - loss: 0.4923 - accuracy: 0.7608 - val_loss: 0.5034 - val_accuracy: 0.7533\n",
      "Epoch 9/10\n",
      "188/188 [==============================] - 1s 4ms/step - loss: 0.4801 - accuracy: 0.7686 - val_loss: 0.4888 - val_accuracy: 0.7621\n",
      "Epoch 10/10\n",
      "188/188 [==============================] - 1s 4ms/step - loss: 0.4675 - accuracy: 0.7774 - val_loss: 0.4804 - val_accuracy: 0.7688\n"
     ]
    }
   ],
   "source": [
    "model.compile(optimizer='adam',\n",
    "              loss='binary_crossentropy',\n",
    "              metrics=['accuracy'])\n",
    "              \n",
    "epochs=10  # 몇 epoch를 훈련하면 좋을지 결과를 보면서 바꾸어 봅시다. \n",
    "\n",
    "history = model.fit(partial_X_train,\n",
    "                    partial_y_train,\n",
    "                    epochs=epochs,\n",
    "                    batch_size=512,\n",
    "                    validation_data=(X_val, y_val),\n",
    "                    verbose=1)"
   ]
  },
  {
   "cell_type": "code",
   "execution_count": 57,
   "id": "9a943726",
   "metadata": {},
   "outputs": [
    {
     "name": "stdout",
     "output_type": "stream",
     "text": [
      "1537/1537 - 2s - loss: 0.4861 - accuracy: 0.7636\n",
      "[0.4861374795436859, 0.7635942101478577]\n"
     ]
    }
   ],
   "source": [
    "results = model.evaluate(X_test, y_test, verbose = 2)\n",
    "print(results)"
   ]
  }
 ],
 "metadata": {
  "kernelspec": {
   "display_name": "Python 3 (ipykernel)",
   "language": "python",
   "name": "python3"
  },
  "language_info": {
   "codemirror_mode": {
    "name": "ipython",
    "version": 3
   },
   "file_extension": ".py",
   "mimetype": "text/x-python",
   "name": "python",
   "nbconvert_exporter": "python",
   "pygments_lexer": "ipython3",
   "version": "3.9.7"
  }
 },
 "nbformat": 4,
 "nbformat_minor": 5
}
