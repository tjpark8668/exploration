{
 "cells": [
  {
   "cell_type": "code",
   "execution_count": 2,
   "id": "5d91595e",
   "metadata": {},
   "outputs": [
    {
     "name": "stdout",
     "output_type": "stream",
     "text": [
      "tensorflow version: 2.6.0\n",
      "데이터 크기: 187088\n",
      "Examples:\n",
      " [\"Now I've heard there was a secret chord\", 'That David played, and it pleased the Lord', \"But you don't really care for music, do you?\"]\n"
     ]
    }
   ],
   "source": [
    "import glob  #glob 모듈의 glob 함수는 사용자가 제시한 조건에 맞는 파일명을 리스트 형식으로 반환한다\n",
    "import tensorflow as tf\n",
    "import os, re\n",
    "\n",
    "print(\"tensorflow version:\", tf.__version__)\n",
    "\n",
    "txt_file_path = os.getenv('HOME')+'/aiffel/lyricist/data/lyrics/*' #os.getenv(x)함수는 환경 변수x의 값을 포함하는 문자열 변수를 반환합니다. txt_file_path 에 \"/root/aiffel/lyricist/data/lyrics/*\" 저장\n",
    "\n",
    "txt_list = glob.glob(txt_file_path) #txt_file_path 경로에 있는 모든 파일명을 리스트 형식으로 txt_list 에 할당\n",
    "\n",
    "raw_corpus = [] \n",
    "\n",
    "# 여러개의 txt 파일을 모두 읽어서 raw_corpus 에 담습니다.\n",
    "for txt_file in txt_list:\n",
    "    with open(txt_file, \"r\") as f:\n",
    "        raw = f.read().splitlines() #read() : 파일 전체의 내용을 하나의 문자열로 읽어온다. , splitlines()  : 여러라인으로 구분되어 있는 문자열을 한라인씩 분리하여 리스트로 반환\n",
    "        raw_corpus.extend(raw) # extend() : 리스트함수로 추가적인 내용을 연장 한다.\n",
    "\n",
    "print(\"데이터 크기:\", len(raw_corpus))\n",
    "print(\"Examples:\\n\", raw_corpus[:3])"
   ]
  },
  {
   "cell_type": "code",
   "execution_count": 3,
   "id": "2562f626",
   "metadata": {},
   "outputs": [],
   "source": [
    "# 문장을 정제하는 함수 선언\n",
    "\n",
    "def preprocess_sentence(sentence):\n",
    "    sentence = sentence.lower().strip() # 1\n",
    "    sentence = re.sub(r\"([?.!,¿])\", r\" \\1 \", sentence) # 2\n",
    "    sentence = re.sub(r'[\" \"]+', \" \", sentence) # 3\n",
    "    sentence = re.sub(r\"[^a-zA-Z?.!,¿]+\", \" \", sentence) # 4\n",
    "    sentence = sentence.strip() # 5\n",
    "    sentence = '<start> ' + sentence + ' <end>' # 6\n",
    "    return sentence"
   ]
  },
  {
   "cell_type": "code",
   "execution_count": 4,
   "id": "0bffeb55",
   "metadata": {},
   "outputs": [
    {
     "data": {
      "text/plain": [
       "['<start> now i ve heard there was a secret chord <end>',\n",
       " '<start> that david played , and it pleased the lord <end>',\n",
       " '<start> but you don t really care for music , do you ? <end>',\n",
       " '<start> it goes like this <end>',\n",
       " '<start> the fourth , the fifth <end>',\n",
       " '<start> the minor fall , the major lift <end>',\n",
       " '<start> the baffled king composing hallelujah hallelujah <end>',\n",
       " '<start> hallelujah <end>',\n",
       " '<start> hallelujah <end>',\n",
       " '<start> hallelujah your faith was strong but you needed proof <end>']"
      ]
     },
     "execution_count": 4,
     "metadata": {},
     "output_type": "execute_result"
    }
   ],
   "source": [
    "# 여기에 정제된 문장을 모을겁니다\n",
    "corpus = []\n",
    "\n",
    "# raw_corpus list에 저장된 문장들을 순서대로 반환하여 sentence에 저장\n",
    "for sentence in raw_corpus:\n",
    "    # 우리가 원하지 않는 문장은 건너뜁니다\n",
    "    if len(sentence) == 0: continue\n",
    "    if sentence[-1] == \":\": continue\n",
    "    \n",
    "    # 앞서 구현한 preprocess_sentence() 함수를 이용하여 문장을 정제를 하고 담아주세요\n",
    "    preprocessed_sentence = preprocess_sentence(sentence)\n",
    "    if len(preprocessed_sentence.split()) > 15: continue\n",
    "    corpus.append(preprocessed_sentence)\n",
    "        \n",
    "# 정제된 결과를 10개만 확인해보죠\n",
    "corpus[:10]"
   ]
  },
  {
   "cell_type": "code",
   "execution_count": 5,
   "id": "72e52ab2",
   "metadata": {},
   "outputs": [
    {
     "name": "stdout",
     "output_type": "stream",
     "text": [
      "[[   2   50    4 ...    0    0    0]\n",
      " [   2   15 2967 ...    0    0    0]\n",
      " [   2   33    7 ...   46    3    0]\n",
      " ...\n",
      " [   2    4  118 ...    0    0    0]\n",
      " [   2  258  194 ...   12    3    0]\n",
      " [   2    7   34 ...    0    0    0]] <keras_preprocessing.text.Tokenizer object at 0x7f4ff83a7250>\n"
     ]
    }
   ],
   "source": [
    "# 토큰화 할 때 텐서플로우의 Tokenizer와 pad_sequences를 사용합니다\n",
    "def tokenize(corpus):\n",
    "    # 12000단어에 포함되지 못한 단어는 '<unk>'로 바꿈\n",
    "    tokenizer = tf.keras.preprocessing.text.Tokenizer(\n",
    "        num_words=12000, \n",
    "        filters=' ',\n",
    "        oov_token=\"<unk>\"\n",
    "    )\n",
    "    # corpus를 이용해 tokenizer 내부의 단어장을 완성합니다\n",
    "    # tokenizer.fit_on_texts(texts): 문자 데이터를 입력받아 리스트의 형태로 변환하는 메서드\n",
    "    tokenizer.fit_on_texts(corpus)\n",
    "    # 준비한 tokenizer를 이용해 corpus를 Tensor로 변환합니다\n",
    "    # tokenizer.texts_to_sequences(texts): 텍스트 안의 단어들을 숫자의 시퀀스 형태로 변환하는 메서드\n",
    "    tensor = tokenizer.texts_to_sequences(corpus)   \n",
    "    # 입력 데이터의 시퀀스 길이를 일정하게 맞춰줍니다\n",
    "    # 만약 시퀀스가 짧다면 문장 뒤에 패딩을 붙여 길이를 맞춰줍니다.\n",
    "    # 문장 앞에 패딩을 붙여 길이를 맞추고 싶다면 padding='pre'를 사용합니다\n",
    "    tensor = tf.keras.preprocessing.sequence.pad_sequences(tensor, padding='post')  \n",
    "    \n",
    "    print(tensor,tokenizer)\n",
    "    return tensor, tokenizer\n",
    "\n",
    "tensor, tokenizer = tokenize(corpus)"
   ]
  },
  {
   "cell_type": "code",
   "execution_count": 6,
   "id": "8281261a",
   "metadata": {},
   "outputs": [
    {
     "name": "stdout",
     "output_type": "stream",
     "text": [
      "[   2   50    4   95  303   62   53    9  946 6263    3    0    0    0]\n",
      "[  50    4   95  303   62   53    9  946 6263    3    0    0    0    0]\n"
     ]
    }
   ],
   "source": [
    "# tensor에서 마지막 토큰을 잘라내서 소스 문장을 생성합니다\n",
    "# 마지막 토큰은 <end>가 아니라 <pad>일 가능성이 높습니다.\n",
    "src_input = tensor[:, :-1]  \n",
    "# tensor에서 <start>를 잘라내서 타겟 문장을 생성합니다.\n",
    "tgt_input = tensor[:, 1:]    \n",
    "\n",
    "print(src_input[0])\n",
    "print(tgt_input[0])"
   ]
  },
  {
   "cell_type": "code",
   "execution_count": 7,
   "id": "87cccab0",
   "metadata": {},
   "outputs": [],
   "source": [
    "from sklearn.model_selection import train_test_split\n",
    "\n",
    "enc_train, enc_val, dec_train, dec_val = train_test_split(\n",
    "    src_input, tgt_input, test_size=0.2, random_state=42)"
   ]
  },
  {
   "cell_type": "code",
   "execution_count": 8,
   "id": "6fbad43b",
   "metadata": {},
   "outputs": [],
   "source": [
    "class TextGenerator(tf.keras.Model):\n",
    "    def __init__(self, vocab_size, embedding_size, hidden_size):\n",
    "        super().__init__()\n",
    "        # Embedding 레이어, 2개의 LSTM 레이어, 1개의 Dense 레이어로 구성되어 있다.\n",
    "        # Embedding 레이어는 단어 사전의 인덱스 값을 해당 인덱스 번째의 워드 벡터로 바꿔준다.\n",
    "        # 이 워드 벡터는 의미 벡터 공간에서 단어의 추상적 표현으로 사용된다. \n",
    "        self.embedding = tf.keras.layers.Embedding(vocab_size, embedding_size) \n",
    "        self.rnn_1 = tf.keras.layers.LSTM(hidden_size, return_sequences=True)  \n",
    "        self.rnn_2 = tf.keras.layers.LSTM(hidden_size, return_sequences=True)\n",
    "        self.linear = tf.keras.layers.Dense(vocab_size)\n",
    "        \n",
    "    def call(self, x):\n",
    "        out = self.embedding(x)\n",
    "        out = self.rnn_1(out)\n",
    "        out = self.rnn_2(out)\n",
    "        out = self.linear(out)\n",
    "        \n",
    "        return out\n",
    "# embedding size 값이 커질수록 단어의 추상적인 특징들을 더 잡아낼 수 있지만\n",
    "# 그만큼 충분한 데이터가 없으면 안좋은 결과 값을 가져옵니다!   \n",
    "embedding_size = 256 # 워드 벡터의 차원수를 말하며 단어가 추상적으로 표현되는 크기입니다.\n",
    "hidden_size = 1024 # 모델에 얼마나 많은 일꾼을 둘 것인가? 정도로 이해하면 좋다.\n",
    "model = TextGenerator(tokenizer.num_words + 1, embedding_size , hidden_size) # tokenizer.num_words에 +1인 이유는 문장에 없는 pad가 사용되었기 때문이다."
   ]
  },
  {
   "cell_type": "code",
   "execution_count": 14,
   "id": "0157fb60",
   "metadata": {},
   "outputs": [
    {
     "data": {
      "text/plain": [
       "<BatchDataset shapes: ((256, 14), (256, 14)), types: (tf.int32, tf.int32)>"
      ]
     },
     "execution_count": 14,
     "metadata": {},
     "output_type": "execute_result"
    }
   ],
   "source": [
    "BUFFER_SIZE = len(src_input)\n",
    "BATCH_SIZE = 256\n",
    "steps_per_epoch = len(src_input) // BATCH_SIZE\n",
    "\n",
    " # tokenizer가 구축한 단어사전 내 7000개와, 여기 포함되지 않은 0:<pad>를 포함하여 7001개\n",
    " # tokenizer.num_words: 주어진 데이터의 문장들에서 빈도수가 높은 n개의 단어만 선택\n",
    " # tokenize() 함수에서 num_words를 7000개로 선언했기 때문에, tokenizer.num_words의 값은 7000\n",
    "VOCAB_SIZE = tokenizer.num_words + 1   \n",
    "\n",
    "# 준비한 데이터 소스로부터 데이터셋을 만듭니다\n",
    "# 데이터셋에 대해서는 아래 문서를 참고하세요\n",
    "# 자세히 알아둘수록 도움이 많이 되는 중요한 문서입니다\n",
    "# https://www.tensorflow.org/api_docs/python/tf/data/Dataset\n",
    "dataset = tf.data.Dataset.from_tensor_slices((src_input, tgt_input))\n",
    "dataset = dataset.shuffle(BUFFER_SIZE)\n",
    "dataset = dataset.batch(BATCH_SIZE, drop_remainder=True)\n",
    "dataset"
   ]
  },
  {
   "cell_type": "code",
   "execution_count": 16,
   "id": "108086bc",
   "metadata": {},
   "outputs": [
    {
     "data": {
      "text/plain": [
       "<tf.Tensor: shape=(256, 14, 12001), dtype=float32, numpy=\n",
       "array([[[ 1.21513709e-04,  9.44786952e-05,  7.31750406e-05, ...,\n",
       "          1.61773292e-04, -1.53087240e-04, -4.27786406e-04],\n",
       "        [ 3.91212176e-04,  8.86379639e-05,  2.90441938e-04, ...,\n",
       "          6.11178548e-05, -3.09614436e-04, -3.97599768e-04],\n",
       "        [ 5.84519294e-04,  6.76529771e-06,  5.57883410e-04, ...,\n",
       "          6.48884670e-05, -2.52845581e-04, -3.27952614e-04],\n",
       "        ...,\n",
       "        [-1.86864883e-04, -9.39224556e-04,  3.42839077e-04, ...,\n",
       "         -1.16970732e-04, -1.86720130e-03,  2.03029159e-03],\n",
       "        [-3.56117089e-04, -1.31225039e-03,  4.63052769e-04, ...,\n",
       "          7.13648988e-05, -2.32351944e-03,  2.60689063e-03],\n",
       "        [-5.09910285e-04, -1.66432792e-03,  5.94856916e-04, ...,\n",
       "          2.75230705e-04, -2.77194125e-03,  3.10478779e-03]],\n",
       "\n",
       "       [[ 1.21513709e-04,  9.44786952e-05,  7.31750406e-05, ...,\n",
       "          1.61773292e-04, -1.53087240e-04, -4.27786406e-04],\n",
       "        [ 2.80644395e-04,  2.05507404e-05,  2.83404283e-04, ...,\n",
       "          3.44491447e-04, -1.09454464e-04, -5.96557511e-04],\n",
       "        [ 2.16398883e-04, -5.27079159e-04,  8.58893327e-04, ...,\n",
       "          4.09851200e-04, -2.47357384e-05, -5.80571068e-04],\n",
       "        ...,\n",
       "        [-7.10602733e-04, -1.95618114e-03,  4.77419497e-04, ...,\n",
       "          2.54281331e-04, -1.57836976e-03,  2.39007920e-03],\n",
       "        [-7.93950167e-04, -2.16850033e-03,  6.02593238e-04, ...,\n",
       "          3.97434487e-04, -2.13430100e-03,  2.89241388e-03],\n",
       "        [-8.73677491e-04, -2.37625255e-03,  7.29532680e-04, ...,\n",
       "          5.59670560e-04, -2.65773991e-03,  3.31900176e-03]],\n",
       "\n",
       "       [[ 1.21513709e-04,  9.44786952e-05,  7.31750406e-05, ...,\n",
       "          1.61773292e-04, -1.53087240e-04, -4.27786406e-04],\n",
       "        [ 2.15631007e-04,  1.16651107e-04, -1.14853401e-05, ...,\n",
       "          6.10360701e-04, -2.84293521e-04, -7.62193114e-04],\n",
       "        [ 1.26915184e-04, -5.42063972e-05,  1.17686068e-04, ...,\n",
       "          8.53416859e-04, -3.08278133e-04, -9.86202969e-04],\n",
       "        ...,\n",
       "        [-5.11298538e-04, -1.98903820e-03,  3.23557237e-04, ...,\n",
       "          1.06067455e-03, -1.49519474e-03,  2.48411368e-03],\n",
       "        [-6.15717319e-04, -2.29540677e-03,  4.89834871e-04, ...,\n",
       "          1.17692049e-03, -2.04135524e-03,  2.93725985e-03],\n",
       "        [-7.14419875e-04, -2.56271288e-03,  6.53989671e-04, ...,\n",
       "          1.29837764e-03, -2.55377032e-03,  3.33183841e-03]],\n",
       "\n",
       "       ...,\n",
       "\n",
       "       [[ 1.21513709e-04,  9.44786952e-05,  7.31750406e-05, ...,\n",
       "          1.61773292e-04, -1.53087240e-04, -4.27786406e-04],\n",
       "        [ 5.04561722e-05,  5.70234224e-05,  1.71866486e-04, ...,\n",
       "          3.47701309e-04,  2.09768241e-05, -5.02718322e-04],\n",
       "        [ 2.70391640e-04,  1.54746216e-04,  1.62339129e-04, ...,\n",
       "          4.43627796e-04, -1.94917156e-04, -5.25915006e-04],\n",
       "        ...,\n",
       "        [-1.36809846e-04, -2.01175478e-03,  3.05036432e-04, ...,\n",
       "          1.25574891e-03, -2.06431188e-03,  3.23276664e-03],\n",
       "        [-2.96658429e-04, -2.31075473e-03,  4.92241757e-04, ...,\n",
       "          1.36905513e-03, -2.57959520e-03,  3.68075701e-03],\n",
       "        [-4.49397921e-04, -2.57516862e-03,  6.73093135e-04, ...,\n",
       "          1.47949660e-03, -3.05045256e-03,  4.04584687e-03]],\n",
       "\n",
       "       [[ 1.21513709e-04,  9.44786952e-05,  7.31750406e-05, ...,\n",
       "          1.61773292e-04, -1.53087240e-04, -4.27786406e-04],\n",
       "        [ 2.80644395e-04,  2.05507404e-05,  2.83404283e-04, ...,\n",
       "          3.44491447e-04, -1.09454464e-04, -5.96557511e-04],\n",
       "        [ 4.79959417e-04, -3.16072226e-04,  1.49787420e-05, ...,\n",
       "          4.97058092e-04,  9.17605357e-05, -5.58810367e-04],\n",
       "        ...,\n",
       "        [ 1.16001465e-03,  5.40943620e-05, -4.89998667e-04, ...,\n",
       "          1.88809554e-05,  5.17238397e-04,  6.18977589e-04],\n",
       "        [ 1.24481472e-03, -3.84638661e-05, -7.12089241e-04, ...,\n",
       "         -3.36527475e-04,  7.56462628e-04,  3.21525789e-04],\n",
       "        [ 1.18594477e-03, -1.95233501e-04, -7.08825712e-04, ...,\n",
       "         -4.56470210e-04,  6.13491924e-04,  5.29329816e-04]],\n",
       "\n",
       "       [[ 1.21513709e-04,  9.44786952e-05,  7.31750406e-05, ...,\n",
       "          1.61773292e-04, -1.53087240e-04, -4.27786406e-04],\n",
       "        [ 4.36992967e-04,  2.10239450e-04,  6.00631174e-05, ...,\n",
       "         -5.84694535e-05, -9.29495436e-05, -9.06138099e-04],\n",
       "        [ 6.41752384e-04,  2.54043029e-04, -7.74688815e-05, ...,\n",
       "          1.86291116e-04, -1.17819232e-04, -1.26163650e-03],\n",
       "        ...,\n",
       "        [ 6.86365063e-04, -7.25336082e-04, -1.83709839e-04, ...,\n",
       "         -2.71947682e-03, -5.83426328e-04, -4.44662437e-04],\n",
       "        [ 4.51133150e-04, -1.08040066e-03, -1.11984322e-04, ...,\n",
       "         -2.39076465e-03, -9.89706255e-04,  3.78517056e-04],\n",
       "        [ 2.13807172e-04, -1.43359718e-03,  9.50837693e-06, ...,\n",
       "         -1.97953568e-03, -1.46781490e-03,  1.17219926e-03]]],\n",
       "      dtype=float32)>"
      ]
     },
     "execution_count": 16,
     "metadata": {},
     "output_type": "execute_result"
    }
   ],
   "source": [
    "# 데이터셋에서 데이터 한 배치만 불러오는 방법입니다.\n",
    "# 지금은 동작 원리에 너무 빠져들지 마세요~\n",
    "for src_sample, tgt_sample in dataset.take(1): break\n",
    "\n",
    "# 한 배치만 불러온 데이터를 모델에 넣어봅니다\n",
    "model(src_sample)"
   ]
  },
  {
   "cell_type": "code",
   "execution_count": 17,
   "id": "6ad06bdb",
   "metadata": {},
   "outputs": [
    {
     "name": "stdout",
     "output_type": "stream",
     "text": [
      "Model: \"text_generator\"\n",
      "_________________________________________________________________\n",
      "Layer (type)                 Output Shape              Param #   \n",
      "=================================================================\n",
      "embedding (Embedding)        multiple                  3072256   \n",
      "_________________________________________________________________\n",
      "lstm (LSTM)                  multiple                  5246976   \n",
      "_________________________________________________________________\n",
      "lstm_1 (LSTM)                multiple                  8392704   \n",
      "_________________________________________________________________\n",
      "dense (Dense)                multiple                  12301025  \n",
      "=================================================================\n",
      "Total params: 29,012,961\n",
      "Trainable params: 29,012,961\n",
      "Non-trainable params: 0\n",
      "_________________________________________________________________\n"
     ]
    }
   ],
   "source": [
    "model.summary()"
   ]
  },
  {
   "cell_type": "code",
   "execution_count": 18,
   "id": "b6ad92c1",
   "metadata": {},
   "outputs": [
    {
     "name": "stdout",
     "output_type": "stream",
     "text": [
      "Epoch 1/30\n",
      "609/609 [==============================] - 114s 183ms/step - loss: 3.4194\n",
      "Epoch 2/30\n",
      "609/609 [==============================] - 111s 182ms/step - loss: 2.9631\n",
      "Epoch 3/30\n",
      "609/609 [==============================] - 111s 182ms/step - loss: 2.7980\n",
      "Epoch 4/30\n",
      "609/609 [==============================] - 111s 182ms/step - loss: 2.6716\n",
      "Epoch 5/30\n",
      "609/609 [==============================] - 111s 182ms/step - loss: 2.5630\n",
      "Epoch 6/30\n",
      "609/609 [==============================] - 111s 182ms/step - loss: 2.4656\n",
      "Epoch 7/30\n",
      "609/609 [==============================] - 111s 182ms/step - loss: 2.3757\n",
      "Epoch 8/30\n",
      "609/609 [==============================] - 111s 182ms/step - loss: 2.2919\n",
      "Epoch 9/30\n",
      "609/609 [==============================] - 111s 182ms/step - loss: 2.2137\n",
      "Epoch 10/30\n",
      "609/609 [==============================] - 111s 182ms/step - loss: 2.1394\n",
      "Epoch 11/30\n",
      "609/609 [==============================] - 111s 182ms/step - loss: 2.0693\n",
      "Epoch 12/30\n",
      "609/609 [==============================] - 111s 182ms/step - loss: 2.0025\n",
      "Epoch 13/30\n",
      "609/609 [==============================] - 111s 182ms/step - loss: 1.9393\n",
      "Epoch 14/30\n",
      "609/609 [==============================] - 111s 182ms/step - loss: 1.8788\n",
      "Epoch 15/30\n",
      "609/609 [==============================] - 111s 182ms/step - loss: 1.8208\n",
      "Epoch 16/30\n",
      "609/609 [==============================] - 111s 182ms/step - loss: 1.7655\n",
      "Epoch 17/30\n",
      "609/609 [==============================] - 111s 182ms/step - loss: 1.7123\n",
      "Epoch 18/30\n",
      "609/609 [==============================] - 111s 182ms/step - loss: 1.6610\n",
      "Epoch 19/30\n",
      "609/609 [==============================] - 111s 182ms/step - loss: 1.6120\n",
      "Epoch 20/30\n",
      "609/609 [==============================] - 111s 182ms/step - loss: 1.5650\n",
      "Epoch 21/30\n",
      "609/609 [==============================] - 111s 182ms/step - loss: 1.5201\n",
      "Epoch 22/30\n",
      "609/609 [==============================] - 111s 182ms/step - loss: 1.4776\n",
      "Epoch 23/30\n",
      "609/609 [==============================] - 111s 182ms/step - loss: 1.4363\n",
      "Epoch 24/30\n",
      "609/609 [==============================] - 111s 182ms/step - loss: 1.3976\n",
      "Epoch 25/30\n",
      "609/609 [==============================] - 111s 182ms/step - loss: 1.3612\n",
      "Epoch 26/30\n",
      "609/609 [==============================] - 111s 182ms/step - loss: 1.3261\n",
      "Epoch 27/30\n",
      "609/609 [==============================] - 111s 182ms/step - loss: 1.2930\n",
      "Epoch 28/30\n",
      "609/609 [==============================] - 111s 182ms/step - loss: 1.2618\n",
      "Epoch 29/30\n",
      "609/609 [==============================] - 111s 182ms/step - loss: 1.2329\n",
      "Epoch 30/30\n",
      "609/609 [==============================] - 111s 182ms/step - loss: 1.2053\n"
     ]
    },
    {
     "data": {
      "text/plain": [
       "<keras.callbacks.History at 0x7f4f5c9229a0>"
      ]
     },
     "execution_count": 18,
     "metadata": {},
     "output_type": "execute_result"
    }
   ],
   "source": [
    "# optimizer와 loss등은 차차 배웁니다\n",
    "# 혹시 미리 알고 싶다면 아래 문서를 참고하세요\n",
    "# https://www.tensorflow.org/api_docs/python/tf/keras/optimizers\n",
    "# https://www.tensorflow.org/api_docs/python/tf/keras/losses\n",
    "# 양이 상당히 많은 편이니 지금 보는 것은 추천하지 않습니다\n",
    "\n",
    "# Adam 알고리즘을 구현하는 optimzier이며 어떤 optimzier를 써야할지 모른다면 Adam을 쓰는 것도 방법이다.\n",
    "# 우리가 학습을 할 때 최대한 틀리지 않는 방향으로 학습을 해야한다.\n",
    "# 여기서 얼마나 틀리는지(loss)를 알게하는 함수가 손실함수 이다.\n",
    "# 이 손실함수의 최소값을 찾는 것을 학습의 목표로 하며 여기서 최소값을 찾아가는 과정을 optimization 이라하고\n",
    "# 이를 수행하는 알고리즘을 optimizer(최적화)라고 한다.\n",
    "\n",
    "optimizer = tf.keras.optimizers.Adam() # Adam은 현재 가장 많이 사용하는 옵티마이저이다. 자세한 내용은 차차 배운다.\n",
    "loss = tf.keras.losses.SparseCategoricalCrossentropy( # 훈련 데이터의 라벨이 정수의 형태로 제공될 때 사용하는 손실함수이다.\n",
    "    from_logits=True, # 기본값은 False이다. 모델에 의해 생성된 출력 값이 정규화되지 않았음을 손실 함수에 알려준다. 즉 softmax함수가 적용되지 않았다는걸 의미한다. \n",
    "    reduction='none'  # 기본값은 SUM이다. 각자 나오는 값의 반환 원할 때 None을 사용한다.\n",
    ")\n",
    "# 모델을 학습시키키 위한 학습과정을 설정하는 단계이다.\n",
    "model.compile(loss=loss, optimizer=optimizer) # 손실함수와 훈련과정을 설정했다.\n",
    "model.fit(dataset, epochs=30) # 만들어둔 데이터셋으로 모델을 학습한다. 30번 학습을 반복하겠다는 의미다."
   ]
  },
  {
   "cell_type": "code",
   "execution_count": 20,
   "id": "a013d674",
   "metadata": {},
   "outputs": [],
   "source": [
    "#문장생성 함수 정의\n",
    "#모델에게 시작 문장을 전달하면 모델이 시작 문장을 바탕으로 작문을 진행\n",
    "def generate_text(model, tokenizer, init_sentence=\"<start>\", max_len=20): #시작 문자열을 init_sentence 로 받으며 디폴트값은 <start> 를 받는다\n",
    "    # 테스트를 위해서 입력받은 init_sentence도 텐서로 변환합니다\n",
    "    test_input = tokenizer.texts_to_sequences([init_sentence]) #텍스트 안의 단어들을 숫자의 시퀀스의 형태로 변환\n",
    "    test_tensor = tf.convert_to_tensor(test_input, dtype=tf.int64)\n",
    "    end_token = tokenizer.word_index[\"<end>\"]\n",
    "\n",
    "    # 단어 하나씩 예측해 문장을 만듭니다\n",
    "    #    1. 입력받은 문장의 텐서를 입력합니다\n",
    "    #    2. 예측된 값 중 가장 높은 확률인 word index를 뽑아냅니다\n",
    "    #    3. 2에서 예측된 word index를 문장 뒤에 붙입니다\n",
    "    #    4. 모델이 <end>를 예측했거나, max_len에 도달했다면 문장 생성을 마칩니다 (도달 하지 못하였으면 while 루프를 돌면서 다음 단어를 예측)\n",
    "    while True: #루프를 돌면서 init_sentence에 단어를 하나씩 생성성\n",
    "        # 1\n",
    "        predict = model(test_tensor) \n",
    "        # 2\n",
    "        predict_word = tf.argmax(tf.nn.softmax(predict, axis=-1), axis=-1)[:, -1] \n",
    "        # 3 \n",
    "        test_tensor = tf.concat([test_tensor, tf.expand_dims(predict_word, axis=0)], axis=-1)\n",
    "        # 4 \n",
    "        if predict_word.numpy()[0] == end_token: break\n",
    "        if test_tensor.shape[1] >= max_len: break\n",
    "\n",
    "    generated = \"\"\n",
    "    # tokenizer를 이용해 word index를 단어로 하나씩 변환합니다 \n",
    "    for word_index in test_tensor[0].numpy():\n",
    "        generated += tokenizer.index_word[word_index] + \" \"\n",
    "\n",
    "    return generated #최종적으로 모델이 생성한 문장을 반환"
   ]
  },
  {
   "cell_type": "code",
   "execution_count": 22,
   "id": "eab02f09",
   "metadata": {},
   "outputs": [
    {
     "data": {
      "text/plain": [
       "'<start> i love you , i m not gonna crack <end> '"
      ]
     },
     "execution_count": 22,
     "metadata": {},
     "output_type": "execute_result"
    }
   ],
   "source": [
    "generate_text(model, tokenizer, init_sentence=\"<start> i love\", max_len=20)\n",
    "# generate_text 함수에 lyricist 라 정의한 모델을 이용해서 ilove 로 시작되는 문장을 생성"
   ]
  }
 ],
 "metadata": {
  "kernelspec": {
   "display_name": "Python 3 (ipykernel)",
   "language": "python",
   "name": "python3"
  },
  "language_info": {
   "codemirror_mode": {
    "name": "ipython",
    "version": 3
   },
   "file_extension": ".py",
   "mimetype": "text/x-python",
   "name": "python",
   "nbconvert_exporter": "python",
   "pygments_lexer": "ipython3",
   "version": "3.9.7"
  }
 },
 "nbformat": 4,
 "nbformat_minor": 5
}
